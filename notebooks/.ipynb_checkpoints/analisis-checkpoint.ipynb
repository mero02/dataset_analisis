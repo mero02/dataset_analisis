{
 "cells": [
  {
   "cell_type": "code",
   "execution_count": 1,
   "id": "50bcfee7-f7cb-41ed-94c9-559091b442b1",
   "metadata": {},
   "outputs": [
    {
     "name": "stdout",
     "output_type": "stream",
     "text": [
      "✅ Librerías cargadas correctamente\n",
      "📍 Directorio actual: C:\\Users\\franc\\Desktop\\analisis_datos\\dataset_analisis\\notebooks\n"
     ]
    }
   ],
   "source": [
    "# 🔬 ANÁLISIS DE SERIES TEMPORALES\n",
    "# ===================================\n",
    "\n",
    "import pandas as pd\n",
    "import numpy as np\n",
    "import matplotlib.pyplot as plt\n",
    "import seaborn as sns\n",
    "import plotly.express as px\n",
    "import plotly.graph_objects as go\n",
    "from plotly.subplots import make_subplots\n",
    "import openpyxl\n",
    "import os\n",
    "from datetime import datetime\n",
    "import warnings\n",
    "warnings.filterwarnings('ignore')\n",
    "\n",
    "# Configuración de gráficos\n",
    "plt.style.use('default')\n",
    "sns.set_palette(\"husl\")\n",
    "\n",
    "print(\"✅ Librerías cargadas correctamente\")\n",
    "print(\"📍 Directorio actual:\", os.getcwd())"
   ]
  },
  {
   "cell_type": "code",
   "execution_count": 4,
   "id": "a8cc5eb7-b59a-4b3c-9652-2336f983fcde",
   "metadata": {},
   "outputs": [
    {
     "name": "stdout",
     "output_type": "stream",
     "text": [
      "✅ Función de carga mejorada definida\n"
     ]
    }
   ],
   "source": [
    "def cargar_datos_excel(archivo_path):\n",
    "    \"\"\"\n",
    "    Carga y procesa datos del Excel de series temporales (versión mejorada)\n",
    "    \"\"\"\n",
    "    print(f\"📂 Cargando archivo: {archivo_path}\")\n",
    "    \n",
    "    if not os.path.exists(archivo_path):\n",
    "        print(f\"❌ Archivo no encontrado: {archivo_path}\")\n",
    "        return None, None\n",
    "    \n",
    "    xl = pd.ExcelFile(archivo_path)\n",
    "    print(f\"📊 Hojas encontradas: {len(xl.sheet_names)}\")\n",
    "    \n",
    "    datos_completos = []\n",
    "    metadatos = []\n",
    "    \n",
    "    for i, sheet in enumerate(xl.sheet_names):\n",
    "        print(f\"🔄 Procesando hoja {i+1}/{len(xl.sheet_names)}: {sheet}\")\n",
    "        \n",
    "        try:\n",
    "            # Leer hoja completa sin especificar header\n",
    "            df = pd.read_excel(archivo_path, sheet_name=sheet, header=None)\n",
    "            \n",
    "            print(f\"   📐 Dimensiones: {df.shape}\")\n",
    "            print(f\"   📋 Primeras filas:\")\n",
    "            print(df.head(8).to_string())\n",
    "            \n",
    "            if len(df) < 7:\n",
    "                print(f\"   ⚠️  Hoja muy pequeña, saltando\")\n",
    "                continue\n",
    "            \n",
    "            # Extraer metadatos de las primeras filas\n",
    "            metadata = {\n",
    "                'hoja': sheet,\n",
    "                'fecha_inicio': df.iloc[1, 1] if len(df) > 1 and len(df.columns) > 1 else None,\n",
    "                'tipo': df.iloc[2, 1] if len(df) > 2 and len(df.columns) > 1 else None,\n",
    "                'categoria': df.iloc[3, 1] if len(df) > 3 and len(df.columns) > 1 else None,\n",
    "                'unidad': df.iloc[4, 1] if len(df) > 4 and len(df.columns) > 1 else None,\n",
    "                'fecha_fin': df.iloc[5, 1] if len(df) > 5 and len(df.columns) > 1 else None,\n",
    "            }\n",
    "            metadatos.append(metadata)\n",
    "            \n",
    "            # Extraer datos desde fila 6 en adelante\n",
    "            data_df = df.iloc[6:].copy()\n",
    "            \n",
    "            # Manejar diferentes números de columnas\n",
    "            if data_df.shape[1] >= 2:\n",
    "                # Tomar las primeras 2 columnas\n",
    "                data_df = data_df.iloc[:, :2].copy()\n",
    "                data_df.columns = ['fecha', 'valor']\n",
    "            elif data_df.shape[1] == 1:\n",
    "                # Solo una columna, asumir que son valores\n",
    "                data_df.columns = ['valor']\n",
    "                data_df['fecha'] = pd.date_range(start='2020-01-01', periods=len(data_df), freq='M')\n",
    "            else:\n",
    "                print(f\"   ❌ Estructura de datos no reconocida\")\n",
    "                continue\n",
    "            \n",
    "            # Limpiar datos nulos\n",
    "            data_df = data_df.dropna()\n",
    "            \n",
    "            if len(data_df) == 0:\n",
    "                print(f\"   ⚠️  No hay datos válidos después de limpiar\")\n",
    "                continue\n",
    "            \n",
    "            # Agregar metadatos\n",
    "            data_df['tipo'] = metadata['tipo'] if metadata['tipo'] else sheet\n",
    "            data_df['categoria'] = metadata['categoria'] if metadata['categoria'] else 'Sin categoría'\n",
    "            data_df['hoja'] = sheet\n",
    "            \n",
    "            # Intentar convertir fecha\n",
    "            if 'fecha' in data_df.columns:\n",
    "                try:\n",
    "                    data_df['fecha'] = pd.to_datetime(data_df['fecha'], errors='coerce')\n",
    "                except:\n",
    "                    print(f\"   ⚠️  Usando fechas secuenciales\")\n",
    "                    data_df['fecha'] = pd.date_range(start='2020-01-01', periods=len(data_df), freq='M')\n",
    "            \n",
    "            # Convertir valores\n",
    "            try:\n",
    "                data_df['valor'] = pd.to_numeric(data_df['valor'], errors='coerce')\n",
    "                data_df = data_df.dropna(subset=['valor'])  # Eliminar valores no numéricos\n",
    "            except:\n",
    "                print(f\"   ❌ Error al convertir valores numéricos\")\n",
    "                continue\n",
    "            \n",
    "            if len(data_df) > 0:\n",
    "                datos_completos.append(data_df)\n",
    "                print(f\"   ✅ {len(data_df)} registros válidos\")\n",
    "            else:\n",
    "                print(f\"   ⚠️  No quedan datos válidos\")\n",
    "                \n",
    "        except Exception as e:\n",
    "            print(f\"   ❌ Error detallado: {e}\")\n",
    "            continue\n",
    "    \n",
    "    if datos_completos:\n",
    "        datos_finales = pd.concat(datos_completos, ignore_index=True)\n",
    "        print(f\"\\n✅ Datos cargados exitosamente:\")\n",
    "        print(f\"   - {len(metadatos)} hojas procesadas\")\n",
    "        print(f\"   - {len(datos_completos)} hojas con datos válidos\")\n",
    "        print(f\"   - {len(datos_finales)} registros totales\")\n",
    "        return metadatos, datos_finales\n",
    "    else:\n",
    "        print(\"❌ No se pudieron cargar datos de ninguna hoja\")\n",
    "        return None, None\n",
    "\n",
    "print(\"✅ Función de carga mejorada definida\")"
   ]
  },
  {
   "cell_type": "code",
   "execution_count": 5,
   "id": "c4828fd6-8e88-47ec-930e-bad63cd8ba1b",
   "metadata": {},
   "outputs": [
    {
     "name": "stdout",
     "output_type": "stream",
     "text": [
      "📂 Archivo encontrado en: ../data/raw/Datos_Series_Leo.xlsx\n",
      "📂 Cargando archivo: ../data/raw/Datos_Series_Leo.xlsx\n",
      "📊 Hojas encontradas: 3\n",
      "🔄 Procesando hoja 1/3: Economicas\n",
      "   📐 Dimensiones: (54, 3)\n",
      "   📋 Primeras filas:\n",
      "                     0                    1                    2\n",
      "0                  NaN                  NaN                  NaN\n",
      "1  2020-01-01 00:00:00  2020-01-01 00:00:00  2020-01-01 00:00:00\n",
      "2            Económico            Económico            Económico\n",
      "3                  PIB                  PIB            Inflación\n",
      "4         Millones USD         Millones USD           Porcentaje\n",
      "5  2023-12-31 00:00:00  2023-12-31 00:00:00  2023-12-31 00:00:00\n",
      "6  2020-01-31 00:00:00        912279.539922             2.872418\n",
      "7  2020-02-29 00:00:00       1008239.329439             4.211806\n",
      "   ✅ 48 registros válidos\n",
      "🔄 Procesando hoja 2/3: Sociales\n",
      "   📐 Dimensiones: (53, 3)\n",
      "   📋 Primeras filas:\n",
      "                     0                    1                    2\n",
      "0  2020-01-01 00:00:00  2020-01-01 00:00:00  2020-01-01 00:00:00\n",
      "1               Social               Social               Social\n",
      "2            Población            Población               Empleo\n",
      "3    Miles de personas    Miles de personas           Porcentaje\n",
      "4  2023-12-31 00:00:00  2023-12-31 00:00:00  2023-12-31 00:00:00\n",
      "5  2020-01-31 00:00:00         49990.335894            84.192221\n",
      "6  2020-02-29 00:00:00         50058.465822             83.81942\n",
      "7  2020-03-31 00:00:00         50227.134962            89.038118\n",
      "   ✅ 47 registros válidos\n",
      "🔄 Procesando hoja 3/3: Ambientales\n",
      "   📐 Dimensiones: (53, 3)\n",
      "   📋 Primeras filas:\n",
      "                     0                    1                    2\n",
      "0  2020-01-01 00:00:00  2020-01-01 00:00:00  2020-01-01 00:00:00\n",
      "1            Ambiental            Ambiental            Ambiental\n",
      "2          Temperatura          Temperatura        Precipitación\n",
      "3       Grados Celsius       Grados Celsius                   mm\n",
      "4  2023-12-31 00:00:00  2023-12-31 00:00:00  2023-12-31 00:00:00\n",
      "5  2020-01-31 00:00:00             7.941611            75.951409\n",
      "6  2020-02-29 00:00:00              9.76615            66.244061\n",
      "7  2020-03-31 00:00:00            15.274467            60.442683\n",
      "   ✅ 47 registros válidos\n",
      "\n",
      "✅ Datos cargados exitosamente:\n",
      "   - 3 hojas procesadas\n",
      "   - 3 hojas con datos válidos\n",
      "   - 142 registros totales\n",
      "\n",
      "📊 RESUMEN DE DATOS:\n",
      "========================================\n",
      "Período: 2020-01-31 00:00:00 a 2023-12-31 00:00:00\n",
      "Tipos únicos: 3\n",
      "Categorías únicas: 3\n",
      "Total registros: 142\n",
      "\n",
      "🏷️  TIPOS DE SERIES:\n",
      "tipo\n",
      "Económico      48\n",
      "Población      47\n",
      "Temperatura    47\n",
      "Name: count, dtype: int64\n",
      "\n",
      "📋 PRIMERAS FILAS:\n"
     ]
    },
    {
     "data": {
      "text/html": [
       "<div>\n",
       "<style scoped>\n",
       "    .dataframe tbody tr th:only-of-type {\n",
       "        vertical-align: middle;\n",
       "    }\n",
       "\n",
       "    .dataframe tbody tr th {\n",
       "        vertical-align: top;\n",
       "    }\n",
       "\n",
       "    .dataframe thead th {\n",
       "        text-align: right;\n",
       "    }\n",
       "</style>\n",
       "<table border=\"1\" class=\"dataframe\">\n",
       "  <thead>\n",
       "    <tr style=\"text-align: right;\">\n",
       "      <th></th>\n",
       "      <th>fecha</th>\n",
       "      <th>valor</th>\n",
       "      <th>tipo</th>\n",
       "      <th>categoria</th>\n",
       "      <th>hoja</th>\n",
       "    </tr>\n",
       "  </thead>\n",
       "  <tbody>\n",
       "    <tr>\n",
       "      <th>0</th>\n",
       "      <td>2020-01-31</td>\n",
       "      <td>9.122795e+05</td>\n",
       "      <td>Económico</td>\n",
       "      <td>PIB</td>\n",
       "      <td>Economicas</td>\n",
       "    </tr>\n",
       "    <tr>\n",
       "      <th>1</th>\n",
       "      <td>2020-02-29</td>\n",
       "      <td>1.008239e+06</td>\n",
       "      <td>Económico</td>\n",
       "      <td>PIB</td>\n",
       "      <td>Economicas</td>\n",
       "    </tr>\n",
       "    <tr>\n",
       "      <th>2</th>\n",
       "      <td>2020-03-31</td>\n",
       "      <td>1.006210e+06</td>\n",
       "      <td>Económico</td>\n",
       "      <td>PIB</td>\n",
       "      <td>Economicas</td>\n",
       "    </tr>\n",
       "    <tr>\n",
       "      <th>3</th>\n",
       "      <td>2020-04-30</td>\n",
       "      <td>1.108610e+06</td>\n",
       "      <td>Económico</td>\n",
       "      <td>PIB</td>\n",
       "      <td>Economicas</td>\n",
       "    </tr>\n",
       "    <tr>\n",
       "      <th>4</th>\n",
       "      <td>2020-05-31</td>\n",
       "      <td>1.008162e+06</td>\n",
       "      <td>Económico</td>\n",
       "      <td>PIB</td>\n",
       "      <td>Economicas</td>\n",
       "    </tr>\n",
       "  </tbody>\n",
       "</table>\n",
       "</div>"
      ],
      "text/plain": [
       "       fecha         valor       tipo categoria        hoja\n",
       "0 2020-01-31  9.122795e+05  Económico       PIB  Economicas\n",
       "1 2020-02-29  1.008239e+06  Económico       PIB  Economicas\n",
       "2 2020-03-31  1.006210e+06  Económico       PIB  Economicas\n",
       "3 2020-04-30  1.108610e+06  Económico       PIB  Economicas\n",
       "4 2020-05-31  1.008162e+06  Económico       PIB  Economicas"
      ]
     },
     "metadata": {},
     "output_type": "display_data"
    }
   ],
   "source": [
    "# 📁 CARGAR DATOS\n",
    "# ================\n",
    "\n",
    "# Buscar el archivo automáticamente\n",
    "posibles_rutas = [\n",
    "    'data/raw/Datos_Series_Leo.xlsx',\n",
    "    '../data/raw/Datos_Series_Leo.xlsx',\n",
    "    '../../data/raw/Datos_Series_Leo.xlsx'\n",
    "]\n",
    "\n",
    "archivo_encontrado = None\n",
    "for ruta in posibles_rutas:\n",
    "    if os.path.exists(ruta):\n",
    "        archivo_encontrado = ruta\n",
    "        break\n",
    "\n",
    "if archivo_encontrado:\n",
    "    print(f\"📂 Archivo encontrado en: {archivo_encontrado}\")\n",
    "    metadatos, datos = cargar_datos_excel(archivo_encontrado)\n",
    "    \n",
    "    if datos is not None:\n",
    "        print(\"\\n📊 RESUMEN DE DATOS:\")\n",
    "        print(\"=\" * 40)\n",
    "        print(f\"Período: {datos['fecha'].min()} a {datos['fecha'].max()}\")\n",
    "        print(f\"Tipos únicos: {datos['tipo'].nunique()}\")\n",
    "        print(f\"Categorías únicas: {datos['categoria'].nunique()}\")\n",
    "        print(f\"Total registros: {len(datos)}\")\n",
    "        \n",
    "        print(\"\\n🏷️  TIPOS DE SERIES:\")\n",
    "        print(datos['tipo'].value_counts())\n",
    "        \n",
    "        print(\"\\n📋 PRIMERAS FILAS:\")\n",
    "        display(datos.head())\n",
    "    else:\n",
    "        print(\"❌ Error al cargar datos\")\n",
    "else:\n",
    "    print(\"❌ No se encontró el archivo Datos_Series_Leo.xlsx\")\n",
    "    print(\"📁 Contenido del directorio actual:\")\n",
    "    for item in os.listdir('.'):\n",
    "        print(f\"   - {item}\")"
   ]
  },
  {
   "cell_type": "code",
   "execution_count": 6,
   "id": "2adc8348-4fd9-4914-ace6-0f8a0865af9f",
   "metadata": {},
   "outputs": [
    {
     "data": {
      "application/vnd.plotly.v1+json": {
       "config": {
        "plotlyServerURL": "https://plot.ly"
       },
       "data": [
        {
         "customdata": [
          [
           "PIB",
           "Economicas"
          ],
          [
           "PIB",
           "Economicas"
          ],
          [
           "PIB",
           "Economicas"
          ],
          [
           "PIB",
           "Economicas"
          ],
          [
           "PIB",
           "Economicas"
          ],
          [
           "PIB",
           "Economicas"
          ],
          [
           "PIB",
           "Economicas"
          ],
          [
           "PIB",
           "Economicas"
          ],
          [
           "PIB",
           "Economicas"
          ],
          [
           "PIB",
           "Economicas"
          ],
          [
           "PIB",
           "Economicas"
          ],
          [
           "PIB",
           "Economicas"
          ],
          [
           "PIB",
           "Economicas"
          ],
          [
           "PIB",
           "Economicas"
          ],
          [
           "PIB",
           "Economicas"
          ],
          [
           "PIB",
           "Economicas"
          ],
          [
           "PIB",
           "Economicas"
          ],
          [
           "PIB",
           "Economicas"
          ],
          [
           "PIB",
           "Economicas"
          ],
          [
           "PIB",
           "Economicas"
          ],
          [
           "PIB",
           "Economicas"
          ],
          [
           "PIB",
           "Economicas"
          ],
          [
           "PIB",
           "Economicas"
          ],
          [
           "PIB",
           "Economicas"
          ],
          [
           "PIB",
           "Economicas"
          ],
          [
           "PIB",
           "Economicas"
          ],
          [
           "PIB",
           "Economicas"
          ],
          [
           "PIB",
           "Economicas"
          ],
          [
           "PIB",
           "Economicas"
          ],
          [
           "PIB",
           "Economicas"
          ],
          [
           "PIB",
           "Economicas"
          ],
          [
           "PIB",
           "Economicas"
          ],
          [
           "PIB",
           "Economicas"
          ],
          [
           "PIB",
           "Economicas"
          ],
          [
           "PIB",
           "Economicas"
          ],
          [
           "PIB",
           "Economicas"
          ],
          [
           "PIB",
           "Economicas"
          ],
          [
           "PIB",
           "Economicas"
          ],
          [
           "PIB",
           "Economicas"
          ],
          [
           "PIB",
           "Economicas"
          ],
          [
           "PIB",
           "Economicas"
          ],
          [
           "PIB",
           "Economicas"
          ],
          [
           "PIB",
           "Economicas"
          ],
          [
           "PIB",
           "Economicas"
          ],
          [
           "PIB",
           "Economicas"
          ],
          [
           "PIB",
           "Economicas"
          ],
          [
           "PIB",
           "Economicas"
          ],
          [
           "PIB",
           "Economicas"
          ]
         ],
         "hovertemplate": "Tipo de Serie=Económico<br>Fecha=%{x}<br>Valor=%{y}<br>categoria=%{customdata[0]}<br>hoja=%{customdata[1]}<extra></extra>",
         "legendgroup": "Económico",
         "line": {
          "color": "#636efa",
          "dash": "solid"
         },
         "marker": {
          "symbol": "circle"
         },
         "mode": "lines",
         "name": "Económico",
         "orientation": "v",
         "showlegend": true,
         "type": "scatter",
         "x": [
          "2020-01-31T00:00:00.000000000",
          "2020-02-29T00:00:00.000000000",
          "2020-03-31T00:00:00.000000000",
          "2020-04-30T00:00:00.000000000",
          "2020-05-31T00:00:00.000000000",
          "2020-06-30T00:00:00.000000000",
          "2020-07-31T00:00:00.000000000",
          "2020-08-31T00:00:00.000000000",
          "2020-09-30T00:00:00.000000000",
          "2020-10-31T00:00:00.000000000",
          "2020-11-30T00:00:00.000000000",
          "2020-12-31T00:00:00.000000000",
          "2021-01-31T00:00:00.000000000",
          "2021-02-28T00:00:00.000000000",
          "2021-03-31T00:00:00.000000000",
          "2021-04-30T00:00:00.000000000",
          "2021-05-31T00:00:00.000000000",
          "2021-06-30T00:00:00.000000000",
          "2021-07-31T00:00:00.000000000",
          "2021-08-31T00:00:00.000000000",
          "2021-09-30T00:00:00.000000000",
          "2021-10-31T00:00:00.000000000",
          "2021-11-30T00:00:00.000000000",
          "2021-12-31T00:00:00.000000000",
          "2022-01-31T00:00:00.000000000",
          "2022-02-28T00:00:00.000000000",
          "2022-03-31T00:00:00.000000000",
          "2022-04-30T00:00:00.000000000",
          "2022-05-31T00:00:00.000000000",
          "2022-06-30T00:00:00.000000000",
          "2022-07-31T00:00:00.000000000",
          "2022-08-31T00:00:00.000000000",
          "2022-09-30T00:00:00.000000000",
          "2022-10-31T00:00:00.000000000",
          "2022-11-30T00:00:00.000000000",
          "2022-12-31T00:00:00.000000000",
          "2023-01-31T00:00:00.000000000",
          "2023-02-28T00:00:00.000000000",
          "2023-03-31T00:00:00.000000000",
          "2023-04-30T00:00:00.000000000",
          "2023-05-31T00:00:00.000000000",
          "2023-06-30T00:00:00.000000000",
          "2023-07-31T00:00:00.000000000",
          "2023-08-31T00:00:00.000000000",
          "2023-09-30T00:00:00.000000000",
          "2023-10-31T00:00:00.000000000",
          "2023-11-30T00:00:00.000000000",
          "2023-12-31T00:00:00.000000000"
         ],
         "xaxis": "x",
         "y": {
          "bdata": "Na1wFC/XK0GmSKyo3sQuQeH0Y70DtS5BWgizAYLqMEGVBYjGQ8QuQS2jsFSg0C1BPjsi7bbrL0GT+YT4sykwQd1LOaP/PS5Bi25siSHZL0F6CCcIhiswQX/GxGl4BzFBpwZTwAUQMUEqkPpfgzMwQX3k9lfUiTBBIRGFl7djMEFQsizD614xQTi8PAwSgDFBYyxnJtvTMEHvX2mQ8yAxQaMujX9Q3DBB/ueE/k9vMUH/y6sfxpQxQTLBFS/HDTBBfJJ3PvUzMUGun3UtJ/EwQY2V40KesDJBRkB7hbG7MUEtgUlcdswyQdMJ9W43JzJBay+xNWS5MEG0hR7ViUYxQZsVm4+ZrDFBZIkdqfqwMEGVbQwGBUsyQbEMn8YGWzJBJ/EgTc2cMUFhLgLukY8xQYDZE5veojJBGPsLzIqWMkE1oPd86nszQWnaagqnkzFBtbHRfs69MUGhaM4XYYoxQUoiiG96zTJBE4X6Jv1QM0F/LapWPUAyQe07L0PgpDFB",
          "dtype": "f8"
         },
         "yaxis": "y"
        },
        {
         "customdata": [
          [
           "Miles de personas",
           "Sociales"
          ],
          [
           "Miles de personas",
           "Sociales"
          ],
          [
           "Miles de personas",
           "Sociales"
          ],
          [
           "Miles de personas",
           "Sociales"
          ],
          [
           "Miles de personas",
           "Sociales"
          ],
          [
           "Miles de personas",
           "Sociales"
          ],
          [
           "Miles de personas",
           "Sociales"
          ],
          [
           "Miles de personas",
           "Sociales"
          ],
          [
           "Miles de personas",
           "Sociales"
          ],
          [
           "Miles de personas",
           "Sociales"
          ],
          [
           "Miles de personas",
           "Sociales"
          ],
          [
           "Miles de personas",
           "Sociales"
          ],
          [
           "Miles de personas",
           "Sociales"
          ],
          [
           "Miles de personas",
           "Sociales"
          ],
          [
           "Miles de personas",
           "Sociales"
          ],
          [
           "Miles de personas",
           "Sociales"
          ],
          [
           "Miles de personas",
           "Sociales"
          ],
          [
           "Miles de personas",
           "Sociales"
          ],
          [
           "Miles de personas",
           "Sociales"
          ],
          [
           "Miles de personas",
           "Sociales"
          ],
          [
           "Miles de personas",
           "Sociales"
          ],
          [
           "Miles de personas",
           "Sociales"
          ],
          [
           "Miles de personas",
           "Sociales"
          ],
          [
           "Miles de personas",
           "Sociales"
          ],
          [
           "Miles de personas",
           "Sociales"
          ],
          [
           "Miles de personas",
           "Sociales"
          ],
          [
           "Miles de personas",
           "Sociales"
          ],
          [
           "Miles de personas",
           "Sociales"
          ],
          [
           "Miles de personas",
           "Sociales"
          ],
          [
           "Miles de personas",
           "Sociales"
          ],
          [
           "Miles de personas",
           "Sociales"
          ],
          [
           "Miles de personas",
           "Sociales"
          ],
          [
           "Miles de personas",
           "Sociales"
          ],
          [
           "Miles de personas",
           "Sociales"
          ],
          [
           "Miles de personas",
           "Sociales"
          ],
          [
           "Miles de personas",
           "Sociales"
          ],
          [
           "Miles de personas",
           "Sociales"
          ],
          [
           "Miles de personas",
           "Sociales"
          ],
          [
           "Miles de personas",
           "Sociales"
          ],
          [
           "Miles de personas",
           "Sociales"
          ],
          [
           "Miles de personas",
           "Sociales"
          ],
          [
           "Miles de personas",
           "Sociales"
          ],
          [
           "Miles de personas",
           "Sociales"
          ],
          [
           "Miles de personas",
           "Sociales"
          ],
          [
           "Miles de personas",
           "Sociales"
          ],
          [
           "Miles de personas",
           "Sociales"
          ],
          [
           "Miles de personas",
           "Sociales"
          ]
         ],
         "hovertemplate": "Tipo de Serie=Población<br>Fecha=%{x}<br>Valor=%{y}<br>categoria=%{customdata[0]}<br>hoja=%{customdata[1]}<extra></extra>",
         "legendgroup": "Población",
         "line": {
          "color": "#EF553B",
          "dash": "solid"
         },
         "marker": {
          "symbol": "circle"
         },
         "mode": "lines",
         "name": "Población",
         "orientation": "v",
         "showlegend": true,
         "type": "scatter",
         "x": [
          "2020-02-29T00:00:00.000000000",
          "2020-03-31T00:00:00.000000000",
          "2020-04-30T00:00:00.000000000",
          "2020-05-31T00:00:00.000000000",
          "2020-06-30T00:00:00.000000000",
          "2020-07-31T00:00:00.000000000",
          "2020-08-31T00:00:00.000000000",
          "2020-09-30T00:00:00.000000000",
          "2020-10-31T00:00:00.000000000",
          "2020-11-30T00:00:00.000000000",
          "2020-12-31T00:00:00.000000000",
          "2021-01-31T00:00:00.000000000",
          "2021-02-28T00:00:00.000000000",
          "2021-03-31T00:00:00.000000000",
          "2021-04-30T00:00:00.000000000",
          "2021-05-31T00:00:00.000000000",
          "2021-06-30T00:00:00.000000000",
          "2021-07-31T00:00:00.000000000",
          "2021-08-31T00:00:00.000000000",
          "2021-09-30T00:00:00.000000000",
          "2021-10-31T00:00:00.000000000",
          "2021-11-30T00:00:00.000000000",
          "2021-12-31T00:00:00.000000000",
          "2022-01-31T00:00:00.000000000",
          "2022-02-28T00:00:00.000000000",
          "2022-03-31T00:00:00.000000000",
          "2022-04-30T00:00:00.000000000",
          "2022-05-31T00:00:00.000000000",
          "2022-06-30T00:00:00.000000000",
          "2022-07-31T00:00:00.000000000",
          "2022-08-31T00:00:00.000000000",
          "2022-09-30T00:00:00.000000000",
          "2022-10-31T00:00:00.000000000",
          "2022-11-30T00:00:00.000000000",
          "2022-12-31T00:00:00.000000000",
          "2023-01-31T00:00:00.000000000",
          "2023-02-28T00:00:00.000000000",
          "2023-03-31T00:00:00.000000000",
          "2023-04-30T00:00:00.000000000",
          "2023-05-31T00:00:00.000000000",
          "2023-06-30T00:00:00.000000000",
          "2023-07-31T00:00:00.000000000",
          "2023-08-31T00:00:00.000000000",
          "2023-09-30T00:00:00.000000000",
          "2023-10-31T00:00:00.000000000",
          "2023-11-30T00:00:00.000000000",
          "2023-12-31T00:00:00.000000000"
         ],
         "xaxis": "x",
         "y": {
          "bdata": "xWIE6E5x6EBok5tRZIboQKyvheSojehAKIsbgMuW6ED5X5Xpx7DoQBqcRrBDuOhASrVQOajB6EA5kjIEsM7oQOKkPw/h1uhAKxrRXFfr6EAlSv7+RO7oQGkJDYGGAelAuOPxKa8Z6UBU2DAbpxbpQDlN7ydiLulATP1AMaIx6UB8ErBIlTbpQAELvGYHVelAphGr2ENf6UDTnaVmy2fpQBDpJUXgaOlAhcpEiDuC6UCpm+OrsonpQDunEeyxo+lA3u+X8vOa6UB/7C/hF6npQNi4H5AJu+lAsDuHtITB6UD6tRRE+8XpQP8YIRdP4+lAS15y/bXt6UBdXbEgQvrpQG8f74ePAOpAqw0UkqYE6kDU/Rs1tRbqQM2bvOgfKOpAS8sty+4z6kDNuQE5v0LqQMdcpKFDUepAGg5Buodb6kAN4u3bTmfqQDw0gTozeupAfZf/MgCG6kAa49VznI3qQMKant1jnepAcEeoMx6l6kCtXFLHQLXqQA==",
          "dtype": "f8"
         },
         "yaxis": "y"
        },
        {
         "customdata": [
          [
           "Grados Celsius",
           "Ambientales"
          ],
          [
           "Grados Celsius",
           "Ambientales"
          ],
          [
           "Grados Celsius",
           "Ambientales"
          ],
          [
           "Grados Celsius",
           "Ambientales"
          ],
          [
           "Grados Celsius",
           "Ambientales"
          ],
          [
           "Grados Celsius",
           "Ambientales"
          ],
          [
           "Grados Celsius",
           "Ambientales"
          ],
          [
           "Grados Celsius",
           "Ambientales"
          ],
          [
           "Grados Celsius",
           "Ambientales"
          ],
          [
           "Grados Celsius",
           "Ambientales"
          ],
          [
           "Grados Celsius",
           "Ambientales"
          ],
          [
           "Grados Celsius",
           "Ambientales"
          ],
          [
           "Grados Celsius",
           "Ambientales"
          ],
          [
           "Grados Celsius",
           "Ambientales"
          ],
          [
           "Grados Celsius",
           "Ambientales"
          ],
          [
           "Grados Celsius",
           "Ambientales"
          ],
          [
           "Grados Celsius",
           "Ambientales"
          ],
          [
           "Grados Celsius",
           "Ambientales"
          ],
          [
           "Grados Celsius",
           "Ambientales"
          ],
          [
           "Grados Celsius",
           "Ambientales"
          ],
          [
           "Grados Celsius",
           "Ambientales"
          ],
          [
           "Grados Celsius",
           "Ambientales"
          ],
          [
           "Grados Celsius",
           "Ambientales"
          ],
          [
           "Grados Celsius",
           "Ambientales"
          ],
          [
           "Grados Celsius",
           "Ambientales"
          ],
          [
           "Grados Celsius",
           "Ambientales"
          ],
          [
           "Grados Celsius",
           "Ambientales"
          ],
          [
           "Grados Celsius",
           "Ambientales"
          ],
          [
           "Grados Celsius",
           "Ambientales"
          ],
          [
           "Grados Celsius",
           "Ambientales"
          ],
          [
           "Grados Celsius",
           "Ambientales"
          ],
          [
           "Grados Celsius",
           "Ambientales"
          ],
          [
           "Grados Celsius",
           "Ambientales"
          ],
          [
           "Grados Celsius",
           "Ambientales"
          ],
          [
           "Grados Celsius",
           "Ambientales"
          ],
          [
           "Grados Celsius",
           "Ambientales"
          ],
          [
           "Grados Celsius",
           "Ambientales"
          ],
          [
           "Grados Celsius",
           "Ambientales"
          ],
          [
           "Grados Celsius",
           "Ambientales"
          ],
          [
           "Grados Celsius",
           "Ambientales"
          ],
          [
           "Grados Celsius",
           "Ambientales"
          ],
          [
           "Grados Celsius",
           "Ambientales"
          ],
          [
           "Grados Celsius",
           "Ambientales"
          ],
          [
           "Grados Celsius",
           "Ambientales"
          ],
          [
           "Grados Celsius",
           "Ambientales"
          ],
          [
           "Grados Celsius",
           "Ambientales"
          ],
          [
           "Grados Celsius",
           "Ambientales"
          ]
         ],
         "hovertemplate": "Tipo de Serie=Temperatura<br>Fecha=%{x}<br>Valor=%{y}<br>categoria=%{customdata[0]}<br>hoja=%{customdata[1]}<extra></extra>",
         "legendgroup": "Temperatura",
         "line": {
          "color": "#00cc96",
          "dash": "solid"
         },
         "marker": {
          "symbol": "circle"
         },
         "mode": "lines",
         "name": "Temperatura",
         "orientation": "v",
         "showlegend": true,
         "type": "scatter",
         "x": [
          "2020-02-29T00:00:00.000000000",
          "2020-03-31T00:00:00.000000000",
          "2020-04-30T00:00:00.000000000",
          "2020-05-31T00:00:00.000000000",
          "2020-06-30T00:00:00.000000000",
          "2020-07-31T00:00:00.000000000",
          "2020-08-31T00:00:00.000000000",
          "2020-09-30T00:00:00.000000000",
          "2020-10-31T00:00:00.000000000",
          "2020-11-30T00:00:00.000000000",
          "2020-12-31T00:00:00.000000000",
          "2021-01-31T00:00:00.000000000",
          "2021-02-28T00:00:00.000000000",
          "2021-03-31T00:00:00.000000000",
          "2021-04-30T00:00:00.000000000",
          "2021-05-31T00:00:00.000000000",
          "2021-06-30T00:00:00.000000000",
          "2021-07-31T00:00:00.000000000",
          "2021-08-31T00:00:00.000000000",
          "2021-09-30T00:00:00.000000000",
          "2021-10-31T00:00:00.000000000",
          "2021-11-30T00:00:00.000000000",
          "2021-12-31T00:00:00.000000000",
          "2022-01-31T00:00:00.000000000",
          "2022-02-28T00:00:00.000000000",
          "2022-03-31T00:00:00.000000000",
          "2022-04-30T00:00:00.000000000",
          "2022-05-31T00:00:00.000000000",
          "2022-06-30T00:00:00.000000000",
          "2022-07-31T00:00:00.000000000",
          "2022-08-31T00:00:00.000000000",
          "2022-09-30T00:00:00.000000000",
          "2022-10-31T00:00:00.000000000",
          "2022-11-30T00:00:00.000000000",
          "2022-12-31T00:00:00.000000000",
          "2023-01-31T00:00:00.000000000",
          "2023-02-28T00:00:00.000000000",
          "2023-03-31T00:00:00.000000000",
          "2023-04-30T00:00:00.000000000",
          "2023-05-31T00:00:00.000000000",
          "2023-06-30T00:00:00.000000000",
          "2023-07-31T00:00:00.000000000",
          "2023-08-31T00:00:00.000000000",
          "2023-09-30T00:00:00.000000000",
          "2023-10-31T00:00:00.000000000",
          "2023-11-30T00:00:00.000000000",
          "2023-12-31T00:00:00.000000000"
         ],
         "xaxis": "x",
         "y": {
          "bdata": "zJQb4ESII0Bsv+nwhowuQOkDtD2LpTFA5ca0FVgTOkBjFS/pD9s4QLZM52VFhjdAgDppCYK7NEA1WN9gIZItQCO0Ti7HBiZA2plTTiS/FUC/wO9OLxAUQBIxTrQiKhlA3br4dT+CIkBbc36c4MgsQGRDSjaB5zJAoWCBvYzTNUCGZzGO4u04QAqBxlevczlAXO/UD6p6M0BXpVb7/FowQIuGRqWQtyRATDeGL4GzIUALi0afbeMUQI5WH+sPWRhA6wYWUi0MI0Cm0Zkom8cwQLKqw2HibzFAVp6UKQ1pNEA0LCd+jE04QHuh7pxr+zdAXMy8zNjvMEBLUgJiWucvQGelFe/5HyxA1f7qItFNIEBKgoxXvYnzP7oWV776NiFAIXQdvJTfIEB7KwwUZPomQN81faY4LjJAlWsZooYANkCCXPAHmw46QLen1snr1DZA1SgJklA9NUDuscnxWgEqQNyd0uXYKiVA75OjCq2ZEkBT46WxaFwKQA==",
          "dtype": "f8"
         },
         "yaxis": "y"
        }
       ],
       "layout": {
        "height": 600,
        "hovermode": "x unified",
        "legend": {
         "title": {
          "text": "Tipo de Serie"
         },
         "tracegroupgap": 0
        },
        "template": {
         "data": {
          "bar": [
           {
            "error_x": {
             "color": "#2a3f5f"
            },
            "error_y": {
             "color": "#2a3f5f"
            },
            "marker": {
             "line": {
              "color": "#E5ECF6",
              "width": 0.5
             },
             "pattern": {
              "fillmode": "overlay",
              "size": 10,
              "solidity": 0.2
             }
            },
            "type": "bar"
           }
          ],
          "barpolar": [
           {
            "marker": {
             "line": {
              "color": "#E5ECF6",
              "width": 0.5
             },
             "pattern": {
              "fillmode": "overlay",
              "size": 10,
              "solidity": 0.2
             }
            },
            "type": "barpolar"
           }
          ],
          "carpet": [
           {
            "aaxis": {
             "endlinecolor": "#2a3f5f",
             "gridcolor": "white",
             "linecolor": "white",
             "minorgridcolor": "white",
             "startlinecolor": "#2a3f5f"
            },
            "baxis": {
             "endlinecolor": "#2a3f5f",
             "gridcolor": "white",
             "linecolor": "white",
             "minorgridcolor": "white",
             "startlinecolor": "#2a3f5f"
            },
            "type": "carpet"
           }
          ],
          "choropleth": [
           {
            "colorbar": {
             "outlinewidth": 0,
             "ticks": ""
            },
            "type": "choropleth"
           }
          ],
          "contour": [
           {
            "colorbar": {
             "outlinewidth": 0,
             "ticks": ""
            },
            "colorscale": [
             [
              0,
              "#0d0887"
             ],
             [
              0.1111111111111111,
              "#46039f"
             ],
             [
              0.2222222222222222,
              "#7201a8"
             ],
             [
              0.3333333333333333,
              "#9c179e"
             ],
             [
              0.4444444444444444,
              "#bd3786"
             ],
             [
              0.5555555555555556,
              "#d8576b"
             ],
             [
              0.6666666666666666,
              "#ed7953"
             ],
             [
              0.7777777777777778,
              "#fb9f3a"
             ],
             [
              0.8888888888888888,
              "#fdca26"
             ],
             [
              1,
              "#f0f921"
             ]
            ],
            "type": "contour"
           }
          ],
          "contourcarpet": [
           {
            "colorbar": {
             "outlinewidth": 0,
             "ticks": ""
            },
            "type": "contourcarpet"
           }
          ],
          "heatmap": [
           {
            "colorbar": {
             "outlinewidth": 0,
             "ticks": ""
            },
            "colorscale": [
             [
              0,
              "#0d0887"
             ],
             [
              0.1111111111111111,
              "#46039f"
             ],
             [
              0.2222222222222222,
              "#7201a8"
             ],
             [
              0.3333333333333333,
              "#9c179e"
             ],
             [
              0.4444444444444444,
              "#bd3786"
             ],
             [
              0.5555555555555556,
              "#d8576b"
             ],
             [
              0.6666666666666666,
              "#ed7953"
             ],
             [
              0.7777777777777778,
              "#fb9f3a"
             ],
             [
              0.8888888888888888,
              "#fdca26"
             ],
             [
              1,
              "#f0f921"
             ]
            ],
            "type": "heatmap"
           }
          ],
          "histogram": [
           {
            "marker": {
             "pattern": {
              "fillmode": "overlay",
              "size": 10,
              "solidity": 0.2
             }
            },
            "type": "histogram"
           }
          ],
          "histogram2d": [
           {
            "colorbar": {
             "outlinewidth": 0,
             "ticks": ""
            },
            "colorscale": [
             [
              0,
              "#0d0887"
             ],
             [
              0.1111111111111111,
              "#46039f"
             ],
             [
              0.2222222222222222,
              "#7201a8"
             ],
             [
              0.3333333333333333,
              "#9c179e"
             ],
             [
              0.4444444444444444,
              "#bd3786"
             ],
             [
              0.5555555555555556,
              "#d8576b"
             ],
             [
              0.6666666666666666,
              "#ed7953"
             ],
             [
              0.7777777777777778,
              "#fb9f3a"
             ],
             [
              0.8888888888888888,
              "#fdca26"
             ],
             [
              1,
              "#f0f921"
             ]
            ],
            "type": "histogram2d"
           }
          ],
          "histogram2dcontour": [
           {
            "colorbar": {
             "outlinewidth": 0,
             "ticks": ""
            },
            "colorscale": [
             [
              0,
              "#0d0887"
             ],
             [
              0.1111111111111111,
              "#46039f"
             ],
             [
              0.2222222222222222,
              "#7201a8"
             ],
             [
              0.3333333333333333,
              "#9c179e"
             ],
             [
              0.4444444444444444,
              "#bd3786"
             ],
             [
              0.5555555555555556,
              "#d8576b"
             ],
             [
              0.6666666666666666,
              "#ed7953"
             ],
             [
              0.7777777777777778,
              "#fb9f3a"
             ],
             [
              0.8888888888888888,
              "#fdca26"
             ],
             [
              1,
              "#f0f921"
             ]
            ],
            "type": "histogram2dcontour"
           }
          ],
          "mesh3d": [
           {
            "colorbar": {
             "outlinewidth": 0,
             "ticks": ""
            },
            "type": "mesh3d"
           }
          ],
          "parcoords": [
           {
            "line": {
             "colorbar": {
              "outlinewidth": 0,
              "ticks": ""
             }
            },
            "type": "parcoords"
           }
          ],
          "pie": [
           {
            "automargin": true,
            "type": "pie"
           }
          ],
          "scatter": [
           {
            "fillpattern": {
             "fillmode": "overlay",
             "size": 10,
             "solidity": 0.2
            },
            "type": "scatter"
           }
          ],
          "scatter3d": [
           {
            "line": {
             "colorbar": {
              "outlinewidth": 0,
              "ticks": ""
             }
            },
            "marker": {
             "colorbar": {
              "outlinewidth": 0,
              "ticks": ""
             }
            },
            "type": "scatter3d"
           }
          ],
          "scattercarpet": [
           {
            "marker": {
             "colorbar": {
              "outlinewidth": 0,
              "ticks": ""
             }
            },
            "type": "scattercarpet"
           }
          ],
          "scattergeo": [
           {
            "marker": {
             "colorbar": {
              "outlinewidth": 0,
              "ticks": ""
             }
            },
            "type": "scattergeo"
           }
          ],
          "scattergl": [
           {
            "marker": {
             "colorbar": {
              "outlinewidth": 0,
              "ticks": ""
             }
            },
            "type": "scattergl"
           }
          ],
          "scattermap": [
           {
            "marker": {
             "colorbar": {
              "outlinewidth": 0,
              "ticks": ""
             }
            },
            "type": "scattermap"
           }
          ],
          "scattermapbox": [
           {
            "marker": {
             "colorbar": {
              "outlinewidth": 0,
              "ticks": ""
             }
            },
            "type": "scattermapbox"
           }
          ],
          "scatterpolar": [
           {
            "marker": {
             "colorbar": {
              "outlinewidth": 0,
              "ticks": ""
             }
            },
            "type": "scatterpolar"
           }
          ],
          "scatterpolargl": [
           {
            "marker": {
             "colorbar": {
              "outlinewidth": 0,
              "ticks": ""
             }
            },
            "type": "scatterpolargl"
           }
          ],
          "scatterternary": [
           {
            "marker": {
             "colorbar": {
              "outlinewidth": 0,
              "ticks": ""
             }
            },
            "type": "scatterternary"
           }
          ],
          "surface": [
           {
            "colorbar": {
             "outlinewidth": 0,
             "ticks": ""
            },
            "colorscale": [
             [
              0,
              "#0d0887"
             ],
             [
              0.1111111111111111,
              "#46039f"
             ],
             [
              0.2222222222222222,
              "#7201a8"
             ],
             [
              0.3333333333333333,
              "#9c179e"
             ],
             [
              0.4444444444444444,
              "#bd3786"
             ],
             [
              0.5555555555555556,
              "#d8576b"
             ],
             [
              0.6666666666666666,
              "#ed7953"
             ],
             [
              0.7777777777777778,
              "#fb9f3a"
             ],
             [
              0.8888888888888888,
              "#fdca26"
             ],
             [
              1,
              "#f0f921"
             ]
            ],
            "type": "surface"
           }
          ],
          "table": [
           {
            "cells": {
             "fill": {
              "color": "#EBF0F8"
             },
             "line": {
              "color": "white"
             }
            },
            "header": {
             "fill": {
              "color": "#C8D4E3"
             },
             "line": {
              "color": "white"
             }
            },
            "type": "table"
           }
          ]
         },
         "layout": {
          "annotationdefaults": {
           "arrowcolor": "#2a3f5f",
           "arrowhead": 0,
           "arrowwidth": 1
          },
          "autotypenumbers": "strict",
          "coloraxis": {
           "colorbar": {
            "outlinewidth": 0,
            "ticks": ""
           }
          },
          "colorscale": {
           "diverging": [
            [
             0,
             "#8e0152"
            ],
            [
             0.1,
             "#c51b7d"
            ],
            [
             0.2,
             "#de77ae"
            ],
            [
             0.3,
             "#f1b6da"
            ],
            [
             0.4,
             "#fde0ef"
            ],
            [
             0.5,
             "#f7f7f7"
            ],
            [
             0.6,
             "#e6f5d0"
            ],
            [
             0.7,
             "#b8e186"
            ],
            [
             0.8,
             "#7fbc41"
            ],
            [
             0.9,
             "#4d9221"
            ],
            [
             1,
             "#276419"
            ]
           ],
           "sequential": [
            [
             0,
             "#0d0887"
            ],
            [
             0.1111111111111111,
             "#46039f"
            ],
            [
             0.2222222222222222,
             "#7201a8"
            ],
            [
             0.3333333333333333,
             "#9c179e"
            ],
            [
             0.4444444444444444,
             "#bd3786"
            ],
            [
             0.5555555555555556,
             "#d8576b"
            ],
            [
             0.6666666666666666,
             "#ed7953"
            ],
            [
             0.7777777777777778,
             "#fb9f3a"
            ],
            [
             0.8888888888888888,
             "#fdca26"
            ],
            [
             1,
             "#f0f921"
            ]
           ],
           "sequentialminus": [
            [
             0,
             "#0d0887"
            ],
            [
             0.1111111111111111,
             "#46039f"
            ],
            [
             0.2222222222222222,
             "#7201a8"
            ],
            [
             0.3333333333333333,
             "#9c179e"
            ],
            [
             0.4444444444444444,
             "#bd3786"
            ],
            [
             0.5555555555555556,
             "#d8576b"
            ],
            [
             0.6666666666666666,
             "#ed7953"
            ],
            [
             0.7777777777777778,
             "#fb9f3a"
            ],
            [
             0.8888888888888888,
             "#fdca26"
            ],
            [
             1,
             "#f0f921"
            ]
           ]
          },
          "colorway": [
           "#636efa",
           "#EF553B",
           "#00cc96",
           "#ab63fa",
           "#FFA15A",
           "#19d3f3",
           "#FF6692",
           "#B6E880",
           "#FF97FF",
           "#FECB52"
          ],
          "font": {
           "color": "#2a3f5f"
          },
          "geo": {
           "bgcolor": "white",
           "lakecolor": "white",
           "landcolor": "#E5ECF6",
           "showlakes": true,
           "showland": true,
           "subunitcolor": "white"
          },
          "hoverlabel": {
           "align": "left"
          },
          "hovermode": "closest",
          "mapbox": {
           "style": "light"
          },
          "paper_bgcolor": "white",
          "plot_bgcolor": "#E5ECF6",
          "polar": {
           "angularaxis": {
            "gridcolor": "white",
            "linecolor": "white",
            "ticks": ""
           },
           "bgcolor": "#E5ECF6",
           "radialaxis": {
            "gridcolor": "white",
            "linecolor": "white",
            "ticks": ""
           }
          },
          "scene": {
           "xaxis": {
            "backgroundcolor": "#E5ECF6",
            "gridcolor": "white",
            "gridwidth": 2,
            "linecolor": "white",
            "showbackground": true,
            "ticks": "",
            "zerolinecolor": "white"
           },
           "yaxis": {
            "backgroundcolor": "#E5ECF6",
            "gridcolor": "white",
            "gridwidth": 2,
            "linecolor": "white",
            "showbackground": true,
            "ticks": "",
            "zerolinecolor": "white"
           },
           "zaxis": {
            "backgroundcolor": "#E5ECF6",
            "gridcolor": "white",
            "gridwidth": 2,
            "linecolor": "white",
            "showbackground": true,
            "ticks": "",
            "zerolinecolor": "white"
           }
          },
          "shapedefaults": {
           "line": {
            "color": "#2a3f5f"
           }
          },
          "ternary": {
           "aaxis": {
            "gridcolor": "white",
            "linecolor": "white",
            "ticks": ""
           },
           "baxis": {
            "gridcolor": "white",
            "linecolor": "white",
            "ticks": ""
           },
           "bgcolor": "#E5ECF6",
           "caxis": {
            "gridcolor": "white",
            "linecolor": "white",
            "ticks": ""
           }
          },
          "title": {
           "x": 0.05
          },
          "xaxis": {
           "automargin": true,
           "gridcolor": "white",
           "linecolor": "white",
           "ticks": "",
           "title": {
            "standoff": 15
           },
           "zerolinecolor": "white",
           "zerolinewidth": 2
          },
          "yaxis": {
           "automargin": true,
           "gridcolor": "white",
           "linecolor": "white",
           "ticks": "",
           "title": {
            "standoff": 15
           },
           "zerolinecolor": "white",
           "zerolinewidth": 2
          }
         }
        },
        "title": {
         "text": "📊 Evolución de Series Temporales por Tipo"
        },
        "xaxis": {
         "anchor": "y",
         "domain": [
          0,
          1
         ],
         "title": {
          "text": "Fecha"
         }
        },
        "yaxis": {
         "anchor": "x",
         "domain": [
          0,
          1
         ],
         "title": {
          "text": "Valor"
         }
        }
       }
      },
      "image/png": "[encoded data removed]"
     },
     "metadata": {},
     "output_type": "display_data"
    },
    {
     "name": "stdout",
     "output_type": "stream",
     "text": [
      "✅ Gráfico de series temporales creado\n"
     ]
    }
   ],
   "source": [
    "\n",
    "# 📈 VISUALIZACIÓN 1: SERIES TEMPORALES POR TIPO\n",
    "# =============================================\n",
    "\n",
    "fig = px.line(datos, x='fecha', y='valor', color='tipo', \n",
    "              title='📊 Evolución de Series Temporales por Tipo',\n",
    "              labels={'valor': 'Valor', 'fecha': 'Fecha', 'tipo': 'Tipo de Serie'},\n",
    "              hover_data=['categoria', 'hoja'])\n",
    "\n",
    "fig.update_layout(\n",
    "    height=600,\n",
    "    xaxis_title=\"Fecha\",\n",
    "    yaxis_title=\"Valor\",\n",
    "    legend_title=\"Tipo de Serie\",\n",
    "    hovermode='x unified'\n",
    ")\n",
    "\n",
    "fig.show()\n",
    "\n",
    "print(\"✅ Gráfico de series temporales creado\")"
   ]
  },
  {
   "cell_type": "code",
   "execution_count": 7,
   "id": "b687f0f0-697e-4c40-8df8-67df69077ddc",
   "metadata": {},
   "outputs": [
    {
     "data": {
      "application/vnd.plotly.v1+json": {
       "config": {
        "plotlyServerURL": "https://plot.ly"
       },
       "data": [
        {
         "mode": "lines+markers",
         "name": "Económico - PIB",
         "type": "scatter",
         "x": [
          "2020-01-31T00:00:00.000000000",
          "2020-02-29T00:00:00.000000000",
          "2020-03-31T00:00:00.000000000",
          "2020-04-30T00:00:00.000000000",
          "2020-05-31T00:00:00.000000000",
          "2020-06-30T00:00:00.000000000",
          "2020-07-31T00:00:00.000000000",
          "2020-08-31T00:00:00.000000000",
          "2020-09-30T00:00:00.000000000",
          "2020-10-31T00:00:00.000000000",
          "2020-11-30T00:00:00.000000000",
          "2020-12-31T00:00:00.000000000",
          "2021-01-31T00:00:00.000000000",
          "2021-02-28T00:00:00.000000000",
          "2021-03-31T00:00:00.000000000",
          "2021-04-30T00:00:00.000000000",
          "2021-05-31T00:00:00.000000000",
          "2021-06-30T00:00:00.000000000",
          "2021-07-31T00:00:00.000000000",
          "2021-08-31T00:00:00.000000000",
          "2021-09-30T00:00:00.000000000",
          "2021-10-31T00:00:00.000000000",
          "2021-11-30T00:00:00.000000000",
          "2021-12-31T00:00:00.000000000",
          "2022-01-31T00:00:00.000000000",
          "2022-02-28T00:00:00.000000000",
          "2022-03-31T00:00:00.000000000",
          "2022-04-30T00:00:00.000000000",
          "2022-05-31T00:00:00.000000000",
          "2022-06-30T00:00:00.000000000",
          "2022-07-31T00:00:00.000000000",
          "2022-08-31T00:00:00.000000000",
          "2022-09-30T00:00:00.000000000",
          "2022-10-31T00:00:00.000000000",
          "2022-11-30T00:00:00.000000000",
          "2022-12-31T00:00:00.000000000",
          "2023-01-31T00:00:00.000000000",
          "2023-02-28T00:00:00.000000000",
          "2023-03-31T00:00:00.000000000",
          "2023-04-30T00:00:00.000000000",
          "2023-05-31T00:00:00.000000000",
          "2023-06-30T00:00:00.000000000",
          "2023-07-31T00:00:00.000000000",
          "2023-08-31T00:00:00.000000000",
          "2023-09-30T00:00:00.000000000",
          "2023-10-31T00:00:00.000000000",
          "2023-11-30T00:00:00.000000000",
          "2023-12-31T00:00:00.000000000"
         ],
         "xaxis": "x",
         "y": {
          "bdata": "Na1wFC/XK0GmSKyo3sQuQeH0Y70DtS5BWgizAYLqMEGVBYjGQ8QuQS2jsFSg0C1BPjsi7bbrL0GT+YT4sykwQd1LOaP/PS5Bi25siSHZL0F6CCcIhiswQX/GxGl4BzFBpwZTwAUQMUEqkPpfgzMwQX3k9lfUiTBBIRGFl7djMEFQsizD614xQTi8PAwSgDFBYyxnJtvTMEHvX2mQ8yAxQaMujX9Q3DBB/ueE/k9vMUH/y6sfxpQxQTLBFS/HDTBBfJJ3PvUzMUGun3UtJ/EwQY2V40KesDJBRkB7hbG7MUEtgUlcdswyQdMJ9W43JzJBay+xNWS5MEG0hR7ViUYxQZsVm4+ZrDFBZIkdqfqwMEGVbQwGBUsyQbEMn8YGWzJBJ/EgTc2cMUFhLgLukY8xQYDZE5veojJBGPsLzIqWMkE1oPd86nszQWnaagqnkzFBtbHRfs69MUGhaM4XYYoxQUoiiG96zTJBE4X6Jv1QM0F/LapWPUAyQe07L0PgpDFB",
          "dtype": "f8"
         },
         "yaxis": "y"
        },
        {
         "mode": "lines+markers",
         "name": "Social - Miles de personas",
         "type": "scatter",
         "x": [
          "2020-02-29T00:00:00.000000000",
          "2020-03-31T00:00:00.000000000",
          "2020-04-30T00:00:00.000000000",
          "2020-05-31T00:00:00.000000000",
          "2020-06-30T00:00:00.000000000",
          "2020-07-31T00:00:00.000000000",
          "2020-08-31T00:00:00.000000000",
          "2020-09-30T00:00:00.000000000",
          "2020-10-31T00:00:00.000000000",
          "2020-11-30T00:00:00.000000000",
          "2020-12-31T00:00:00.000000000",
          "2021-01-31T00:00:00.000000000",
          "2021-02-28T00:00:00.000000000",
          "2021-03-31T00:00:00.000000000",
          "2021-04-30T00:00:00.000000000",
          "2021-05-31T00:00:00.000000000",
          "2021-06-30T00:00:00.000000000",
          "2021-07-31T00:00:00.000000000",
          "2021-08-31T00:00:00.000000000",
          "2021-09-30T00:00:00.000000000",
          "2021-10-31T00:00:00.000000000",
          "2021-11-30T00:00:00.000000000",
          "2021-12-31T00:00:00.000000000",
          "2022-01-31T00:00:00.000000000",
          "2022-02-28T00:00:00.000000000",
          "2022-03-31T00:00:00.000000000",
          "2022-04-30T00:00:00.000000000",
          "2022-05-31T00:00:00.000000000",
          "2022-06-30T00:00:00.000000000",
          "2022-07-31T00:00:00.000000000",
          "2022-08-31T00:00:00.000000000",
          "2022-09-30T00:00:00.000000000",
          "2022-10-31T00:00:00.000000000",
          "2022-11-30T00:00:00.000000000",
          "2022-12-31T00:00:00.000000000",
          "2023-01-31T00:00:00.000000000",
          "2023-02-28T00:00:00.000000000",
          "2023-03-31T00:00:00.000000000",
          "2023-04-30T00:00:00.000000000",
          "2023-05-31T00:00:00.000000000",
          "2023-06-30T00:00:00.000000000",
          "2023-07-31T00:00:00.000000000",
          "2023-08-31T00:00:00.000000000",
          "2023-09-30T00:00:00.000000000",
          "2023-10-31T00:00:00.000000000",
          "2023-11-30T00:00:00.000000000",
          "2023-12-31T00:00:00.000000000"
         ],
         "xaxis": "x2",
         "y": {
          "bdata": "xWIE6E5x6EBok5tRZIboQKyvheSojehAKIsbgMuW6ED5X5Xpx7DoQBqcRrBDuOhASrVQOajB6EA5kjIEsM7oQOKkPw/h1uhAKxrRXFfr6EAlSv7+RO7oQGkJDYGGAelAuOPxKa8Z6UBU2DAbpxbpQDlN7ydiLulATP1AMaIx6UB8ErBIlTbpQAELvGYHVelAphGr2ENf6UDTnaVmy2fpQBDpJUXgaOlAhcpEiDuC6UCpm+OrsonpQDunEeyxo+lA3u+X8vOa6UB/7C/hF6npQNi4H5AJu+lAsDuHtITB6UD6tRRE+8XpQP8YIRdP4+lAS15y/bXt6UBdXbEgQvrpQG8f74ePAOpAqw0UkqYE6kDU/Rs1tRbqQM2bvOgfKOpAS8sty+4z6kDNuQE5v0LqQMdcpKFDUepAGg5Buodb6kAN4u3bTmfqQDw0gTozeupAfZf/MgCG6kAa49VznI3qQMKant1jnepAcEeoMx6l6kCtXFLHQLXqQA==",
          "dtype": "f8"
         },
         "yaxis": "y2"
        },
        {
         "mode": "lines+markers",
         "name": "Ambiental - Grados Celsius",
         "type": "scatter",
         "x": [
          "2020-02-29T00:00:00.000000000",
          "2020-03-31T00:00:00.000000000",
          "2020-04-30T00:00:00.000000000",
          "2020-05-31T00:00:00.000000000",
          "2020-06-30T00:00:00.000000000",
          "2020-07-31T00:00:00.000000000",
          "2020-08-31T00:00:00.000000000",
          "2020-09-30T00:00:00.000000000",
          "2020-10-31T00:00:00.000000000",
          "2020-11-30T00:00:00.000000000",
          "2020-12-31T00:00:00.000000000",
          "2021-01-31T00:00:00.000000000",
          "2021-02-28T00:00:00.000000000",
          "2021-03-31T00:00:00.000000000",
          "2021-04-30T00:00:00.000000000",
          "2021-05-31T00:00:00.000000000",
          "2021-06-30T00:00:00.000000000",
          "2021-07-31T00:00:00.000000000",
          "2021-08-31T00:00:00.000000000",
          "2021-09-30T00:00:00.000000000",
          "2021-10-31T00:00:00.000000000",
          "2021-11-30T00:00:00.000000000",
          "2021-12-31T00:00:00.000000000",
          "2022-01-31T00:00:00.000000000",
          "2022-02-28T00:00:00.000000000",
          "2022-03-31T00:00:00.000000000",
          "2022-04-30T00:00:00.000000000",
          "2022-05-31T00:00:00.000000000",
          "2022-06-30T00:00:00.000000000",
          "2022-07-31T00:00:00.000000000",
          "2022-08-31T00:00:00.000000000",
          "2022-09-30T00:00:00.000000000",
          "2022-10-31T00:00:00.000000000",
          "2022-11-30T00:00:00.000000000",
          "2022-12-31T00:00:00.000000000",
          "2023-01-31T00:00:00.000000000",
          "2023-02-28T00:00:00.000000000",
          "2023-03-31T00:00:00.000000000",
          "2023-04-30T00:00:00.000000000",
          "2023-05-31T00:00:00.000000000",
          "2023-06-30T00:00:00.000000000",
          "2023-07-31T00:00:00.000000000",
          "2023-08-31T00:00:00.000000000",
          "2023-09-30T00:00:00.000000000",
          "2023-10-31T00:00:00.000000000",
          "2023-11-30T00:00:00.000000000",
          "2023-12-31T00:00:00.000000000"
         ],
         "xaxis": "x3",
         "y": {
          "bdata": "zJQb4ESII0Bsv+nwhowuQOkDtD2LpTFA5ca0FVgTOkBjFS/pD9s4QLZM52VFhjdAgDppCYK7NEA1WN9gIZItQCO0Ti7HBiZA2plTTiS/FUC/wO9OLxAUQBIxTrQiKhlA3br4dT+CIkBbc36c4MgsQGRDSjaB5zJAoWCBvYzTNUCGZzGO4u04QAqBxlevczlAXO/UD6p6M0BXpVb7/FowQIuGRqWQtyRATDeGL4GzIUALi0afbeMUQI5WH+sPWRhA6wYWUi0MI0Cm0Zkom8cwQLKqw2HibzFAVp6UKQ1pNEA0LCd+jE04QHuh7pxr+zdAXMy8zNjvMEBLUgJiWucvQGelFe/5HyxA1f7qItFNIEBKgoxXvYnzP7oWV776NiFAIXQdvJTfIEB7KwwUZPomQN81faY4LjJAlWsZooYANkCCXPAHmw46QLen1snr1DZA1SgJklA9NUDuscnxWgEqQNyd0uXYKiVA75OjCq2ZEkBT46WxaFwKQA==",
          "dtype": "f8"
         },
         "yaxis": "y3"
        }
       ],
       "layout": {
        "annotations": [
         {
          "font": {
           "size": 16
          },
          "showarrow": false,
          "text": "📈 Series Económicas",
          "x": 0.5,
          "xanchor": "center",
          "xref": "paper",
          "y": 1,
          "yanchor": "bottom",
          "yref": "paper"
         },
         {
          "font": {
           "size": 16
          },
          "showarrow": false,
          "text": "👥 Series Sociales",
          "x": 0.5,
          "xanchor": "center",
          "xref": "paper",
          "y": 0.6333333333333333,
          "yanchor": "bottom",
          "yref": "paper"
         },
         {
          "font": {
           "size": 16
          },
          "showarrow": false,
          "text": "🌍 Series Ambientales",
          "x": 0.5,
          "xanchor": "center",
          "xref": "paper",
          "y": 0.26666666666666666,
          "yanchor": "bottom",
          "yref": "paper"
         }
        ],
        "height": 900,
        "template": {
         "data": {
          "bar": [
           {
            "error_x": {
             "color": "#2a3f5f"
            },
            "error_y": {
             "color": "#2a3f5f"
            },
            "marker": {
             "line": {
              "color": "#E5ECF6",
              "width": 0.5
             },
             "pattern": {
              "fillmode": "overlay",
              "size": 10,
              "solidity": 0.2
             }
            },
            "type": "bar"
           }
          ],
          "barpolar": [
           {
            "marker": {
             "line": {
              "color": "#E5ECF6",
              "width": 0.5
             },
             "pattern": {
              "fillmode": "overlay",
              "size": 10,
              "solidity": 0.2
             }
            },
            "type": "barpolar"
           }
          ],
          "carpet": [
           {
            "aaxis": {
             "endlinecolor": "#2a3f5f",
             "gridcolor": "white",
             "linecolor": "white",
             "minorgridcolor": "white",
             "startlinecolor": "#2a3f5f"
            },
            "baxis": {
             "endlinecolor": "#2a3f5f",
             "gridcolor": "white",
             "linecolor": "white",
             "minorgridcolor": "white",
             "startlinecolor": "#2a3f5f"
            },
            "type": "carpet"
           }
          ],
          "choropleth": [
           {
            "colorbar": {
             "outlinewidth": 0,
             "ticks": ""
            },
            "type": "choropleth"
           }
          ],
          "contour": [
           {
            "colorbar": {
             "outlinewidth": 0,
             "ticks": ""
            },
            "colorscale": [
             [
              0,
              "#0d0887"
             ],
             [
              0.1111111111111111,
              "#46039f"
             ],
             [
              0.2222222222222222,
              "#7201a8"
             ],
             [
              0.3333333333333333,
              "#9c179e"
             ],
             [
              0.4444444444444444,
              "#bd3786"
             ],
             [
              0.5555555555555556,
              "#d8576b"
             ],
             [
              0.6666666666666666,
              "#ed7953"
             ],
             [
              0.7777777777777778,
              "#fb9f3a"
             ],
             [
              0.8888888888888888,
              "#fdca26"
             ],
             [
              1,
              "#f0f921"
             ]
            ],
            "type": "contour"
           }
          ],
          "contourcarpet": [
           {
            "colorbar": {
             "outlinewidth": 0,
             "ticks": ""
            },
            "type": "contourcarpet"
           }
          ],
          "heatmap": [
           {
            "colorbar": {
             "outlinewidth": 0,
             "ticks": ""
            },
            "colorscale": [
             [
              0,
              "#0d0887"
             ],
             [
              0.1111111111111111,
              "#46039f"
             ],
             [
              0.2222222222222222,
              "#7201a8"
             ],
             [
              0.3333333333333333,
              "#9c179e"
             ],
             [
              0.4444444444444444,
              "#bd3786"
             ],
             [
              0.5555555555555556,
              "#d8576b"
             ],
             [
              0.6666666666666666,
              "#ed7953"
             ],
             [
              0.7777777777777778,
              "#fb9f3a"
             ],
             [
              0.8888888888888888,
              "#fdca26"
             ],
             [
              1,
              "#f0f921"
             ]
            ],
            "type": "heatmap"
           }
          ],
          "histogram": [
           {
            "marker": {
             "pattern": {
              "fillmode": "overlay",
              "size": 10,
              "solidity": 0.2
             }
            },
            "type": "histogram"
           }
          ],
          "histogram2d": [
           {
            "colorbar": {
             "outlinewidth": 0,
             "ticks": ""
            },
            "colorscale": [
             [
              0,
              "#0d0887"
             ],
             [
              0.1111111111111111,
              "#46039f"
             ],
             [
              0.2222222222222222,
              "#7201a8"
             ],
             [
              0.3333333333333333,
              "#9c179e"
             ],
             [
              0.4444444444444444,
              "#bd3786"
             ],
             [
              0.5555555555555556,
              "#d8576b"
             ],
             [
              0.6666666666666666,
              "#ed7953"
             ],
             [
              0.7777777777777778,
              "#fb9f3a"
             ],
             [
              0.8888888888888888,
              "#fdca26"
             ],
             [
              1,
              "#f0f921"
             ]
            ],
            "type": "histogram2d"
           }
          ],
          "histogram2dcontour": [
           {
            "colorbar": {
             "outlinewidth": 0,
             "ticks": ""
            },
            "colorscale": [
             [
              0,
              "#0d0887"
             ],
             [
              0.1111111111111111,
              "#46039f"
             ],
             [
              0.2222222222222222,
              "#7201a8"
             ],
             [
              0.3333333333333333,
              "#9c179e"
             ],
             [
              0.4444444444444444,
              "#bd3786"
             ],
             [
              0.5555555555555556,
              "#d8576b"
             ],
             [
              0.6666666666666666,
              "#ed7953"
             ],
             [
              0.7777777777777778,
              "#fb9f3a"
             ],
             [
              0.8888888888888888,
              "#fdca26"
             ],
             [
              1,
              "#f0f921"
             ]
            ],
            "type": "histogram2dcontour"
           }
          ],
          "mesh3d": [
           {
            "colorbar": {
             "outlinewidth": 0,
             "ticks": ""
            },
            "type": "mesh3d"
           }
          ],
          "parcoords": [
           {
            "line": {
             "colorbar": {
              "outlinewidth": 0,
              "ticks": ""
             }
            },
            "type": "parcoords"
           }
          ],
          "pie": [
           {
            "automargin": true,
            "type": "pie"
           }
          ],
          "scatter": [
           {
            "fillpattern": {
             "fillmode": "overlay",
             "size": 10,
             "solidity": 0.2
            },
            "type": "scatter"
           }
          ],
          "scatter3d": [
           {
            "line": {
             "colorbar": {
              "outlinewidth": 0,
              "ticks": ""
             }
            },
            "marker": {
             "colorbar": {
              "outlinewidth": 0,
              "ticks": ""
             }
            },
            "type": "scatter3d"
           }
          ],
          "scattercarpet": [
           {
            "marker": {
             "colorbar": {
              "outlinewidth": 0,
              "ticks": ""
             }
            },
            "type": "scattercarpet"
           }
          ],
          "scattergeo": [
           {
            "marker": {
             "colorbar": {
              "outlinewidth": 0,
              "ticks": ""
             }
            },
            "type": "scattergeo"
           }
          ],
          "scattergl": [
           {
            "marker": {
             "colorbar": {
              "outlinewidth": 0,
              "ticks": ""
             }
            },
            "type": "scattergl"
           }
          ],
          "scattermap": [
           {
            "marker": {
             "colorbar": {
              "outlinewidth": 0,
              "ticks": ""
             }
            },
            "type": "scattermap"
           }
          ],
          "scattermapbox": [
           {
            "marker": {
             "colorbar": {
              "outlinewidth": 0,
              "ticks": ""
             }
            },
            "type": "scattermapbox"
           }
          ],
          "scatterpolar": [
           {
            "marker": {
             "colorbar": {
              "outlinewidth": 0,
              "ticks": ""
             }
            },
            "type": "scatterpolar"
           }
          ],
          "scatterpolargl": [
           {
            "marker": {
             "colorbar": {
              "outlinewidth": 0,
              "ticks": ""
             }
            },
            "type": "scatterpolargl"
           }
          ],
          "scatterternary": [
           {
            "marker": {
             "colorbar": {
              "outlinewidth": 0,
              "ticks": ""
             }
            },
            "type": "scatterternary"
           }
          ],
          "surface": [
           {
            "colorbar": {
             "outlinewidth": 0,
             "ticks": ""
            },
            "colorscale": [
             [
              0,
              "#0d0887"
             ],
             [
              0.1111111111111111,
              "#46039f"
             ],
             [
              0.2222222222222222,
              "#7201a8"
             ],
             [
              0.3333333333333333,
              "#9c179e"
             ],
             [
              0.4444444444444444,
              "#bd3786"
             ],
             [
              0.5555555555555556,
              "#d8576b"
             ],
             [
              0.6666666666666666,
              "#ed7953"
             ],
             [
              0.7777777777777778,
              "#fb9f3a"
             ],
             [
              0.8888888888888888,
              "#fdca26"
             ],
             [
              1,
              "#f0f921"
             ]
            ],
            "type": "surface"
           }
          ],
          "table": [
           {
            "cells": {
             "fill": {
              "color": "#EBF0F8"
             },
             "line": {
              "color": "white"
             }
            },
            "header": {
             "fill": {
              "color": "#C8D4E3"
             },
             "line": {
              "color": "white"
             }
            },
            "type": "table"
           }
          ]
         },
         "layout": {
          "annotationdefaults": {
           "arrowcolor": "#2a3f5f",
           "arrowhead": 0,
           "arrowwidth": 1
          },
          "autotypenumbers": "strict",
          "coloraxis": {
           "colorbar": {
            "outlinewidth": 0,
            "ticks": ""
           }
          },
          "colorscale": {
           "diverging": [
            [
             0,
             "#8e0152"
            ],
            [
             0.1,
             "#c51b7d"
            ],
            [
             0.2,
             "#de77ae"
            ],
            [
             0.3,
             "#f1b6da"
            ],
            [
             0.4,
             "#fde0ef"
            ],
            [
             0.5,
             "#f7f7f7"
            ],
            [
             0.6,
             "#e6f5d0"
            ],
            [
             0.7,
             "#b8e186"
            ],
            [
             0.8,
             "#7fbc41"
            ],
            [
             0.9,
             "#4d9221"
            ],
            [
             1,
             "#276419"
            ]
           ],
           "sequential": [
            [
             0,
             "#0d0887"
            ],
            [
             0.1111111111111111,
             "#46039f"
            ],
            [
             0.2222222222222222,
             "#7201a8"
            ],
            [
             0.3333333333333333,
             "#9c179e"
            ],
            [
             0.4444444444444444,
             "#bd3786"
            ],
            [
             0.5555555555555556,
             "#d8576b"
            ],
            [
             0.6666666666666666,
             "#ed7953"
            ],
            [
             0.7777777777777778,
             "#fb9f3a"
            ],
            [
             0.8888888888888888,
             "#fdca26"
            ],
            [
             1,
             "#f0f921"
            ]
           ],
           "sequentialminus": [
            [
             0,
             "#0d0887"
            ],
            [
             0.1111111111111111,
             "#46039f"
            ],
            [
             0.2222222222222222,
             "#7201a8"
            ],
            [
             0.3333333333333333,
             "#9c179e"
            ],
            [
             0.4444444444444444,
             "#bd3786"
            ],
            [
             0.5555555555555556,
             "#d8576b"
            ],
            [
             0.6666666666666666,
             "#ed7953"
            ],
            [
             0.7777777777777778,
             "#fb9f3a"
            ],
            [
             0.8888888888888888,
             "#fdca26"
            ],
            [
             1,
             "#f0f921"
            ]
           ]
          },
          "colorway": [
           "#636efa",
           "#EF553B",
           "#00cc96",
           "#ab63fa",
           "#FFA15A",
           "#19d3f3",
           "#FF6692",
           "#B6E880",
           "#FF97FF",
           "#FECB52"
          ],
          "font": {
           "color": "#2a3f5f"
          },
          "geo": {
           "bgcolor": "white",
           "lakecolor": "white",
           "landcolor": "#E5ECF6",
           "showlakes": true,
           "showland": true,
           "subunitcolor": "white"
          },
          "hoverlabel": {
           "align": "left"
          },
          "hovermode": "closest",
          "mapbox": {
           "style": "light"
          },
          "paper_bgcolor": "white",
          "plot_bgcolor": "#E5ECF6",
          "polar": {
           "angularaxis": {
            "gridcolor": "white",
            "linecolor": "white",
            "ticks": ""
           },
           "bgcolor": "#E5ECF6",
           "radialaxis": {
            "gridcolor": "white",
            "linecolor": "white",
            "ticks": ""
           }
          },
          "scene": {
           "xaxis": {
            "backgroundcolor": "#E5ECF6",
            "gridcolor": "white",
            "gridwidth": 2,
            "linecolor": "white",
            "showbackground": true,
            "ticks": "",
            "zerolinecolor": "white"
           },
           "yaxis": {
            "backgroundcolor": "#E5ECF6",
            "gridcolor": "white",
            "gridwidth": 2,
            "linecolor": "white",
            "showbackground": true,
            "ticks": "",
            "zerolinecolor": "white"
           },
           "zaxis": {
            "backgroundcolor": "#E5ECF6",
            "gridcolor": "white",
            "gridwidth": 2,
            "linecolor": "white",
            "showbackground": true,
            "ticks": "",
            "zerolinecolor": "white"
           }
          },
          "shapedefaults": {
           "line": {
            "color": "#2a3f5f"
           }
          },
          "ternary": {
           "aaxis": {
            "gridcolor": "white",
            "linecolor": "white",
            "ticks": ""
           },
           "baxis": {
            "gridcolor": "white",
            "linecolor": "white",
            "ticks": ""
           },
           "bgcolor": "#E5ECF6",
           "caxis": {
            "gridcolor": "white",
            "linecolor": "white",
            "ticks": ""
           }
          },
          "title": {
           "x": 0.05
          },
          "xaxis": {
           "automargin": true,
           "gridcolor": "white",
           "linecolor": "white",
           "ticks": "",
           "title": {
            "standoff": 15
           },
           "zerolinecolor": "white",
           "zerolinewidth": 2
          },
          "yaxis": {
           "automargin": true,
           "gridcolor": "white",
           "linecolor": "white",
           "ticks": "",
           "title": {
            "standoff": 15
           },
           "zerolinecolor": "white",
           "zerolinewidth": 2
          }
         }
        },
        "title": {
         "text": "📊 Series Temporales por Categoría"
        },
        "xaxis": {
         "anchor": "y",
         "domain": [
          0,
          1
         ]
        },
        "xaxis2": {
         "anchor": "y2",
         "domain": [
          0,
          1
         ]
        },
        "xaxis3": {
         "anchor": "y3",
         "domain": [
          0,
          1
         ]
        },
        "yaxis": {
         "anchor": "x",
         "domain": [
          0.7333333333333334,
          1
         ]
        },
        "yaxis2": {
         "anchor": "x2",
         "domain": [
          0.3666666666666667,
          0.6333333333333333
         ]
        },
        "yaxis3": {
         "anchor": "x3",
         "domain": [
          0,
          0.26666666666666666
         ]
        }
       }
      },
      "image/png": "[encoded data removed]"
     },
     "metadata": {},
     "output_type": "display_data"
    },
    {
     "name": "stdout",
     "output_type": "stream",
     "text": [
      "✅ Gráfico por categorías creado\n"
     ]
    }
   ],
   "source": [
    "# 📊 VISUALIZACIÓN 2: SERIES SEPARADAS POR CATEGORÍA\n",
    "# =================================================\n",
    "\n",
    "# Crear subgráficos para cada tipo\n",
    "fig = make_subplots(\n",
    "    rows=3, cols=1,\n",
    "    subplot_titles=['📈 Series Económicas', '👥 Series Sociales', '🌍 Series Ambientales'],\n",
    "    vertical_spacing=0.1\n",
    ")\n",
    "\n",
    "# Económicas\n",
    "econ_data = datos[datos['tipo'] == 'Económico']\n",
    "for categoria in econ_data['categoria'].unique():\n",
    "    data_cat = econ_data[econ_data['categoria'] == categoria]\n",
    "    fig.add_trace(\n",
    "        go.Scatter(x=data_cat['fecha'], y=data_cat['valor'], \n",
    "                  mode='lines+markers', name=f'Económico - {categoria}'),\n",
    "        row=1, col=1\n",
    "    )\n",
    "\n",
    "# Sociales (Población)\n",
    "social_data = datos[datos['tipo'] == 'Población']\n",
    "for categoria in social_data['categoria'].unique():\n",
    "    data_cat = social_data[social_data['categoria'] == categoria]\n",
    "    fig.add_trace(\n",
    "        go.Scatter(x=data_cat['fecha'], y=data_cat['valor'], \n",
    "                  mode='lines+markers', name=f'Social - {categoria}'),\n",
    "        row=2, col=1\n",
    "    )\n",
    "\n",
    "# Ambientales (Temperatura)\n",
    "amb_data = datos[datos['tipo'] == 'Temperatura']\n",
    "for categoria in amb_data['categoria'].unique():\n",
    "    data_cat = amb_data[amb_data['categoria'] == categoria]\n",
    "    fig.add_trace(\n",
    "        go.Scatter(x=data_cat['fecha'], y=data_cat['valor'], \n",
    "                  mode='lines+markers', name=f'Ambiental - {categoria}'),\n",
    "        row=3, col=1\n",
    "    )\n",
    "\n",
    "fig.update_layout(height=900, title_text=\"📊 Series Temporales por Categoría\")\n",
    "fig.show()\n",
    "\n",
    "print(\"✅ Gráfico por categorías creado\")"
   ]
  },
  {
   "cell_type": "code",
   "execution_count": 8,
   "id": "87f1ae23-56f5-4c90-9054-3b04978df592",
   "metadata": {},
   "outputs": [
    {
     "name": "stdout",
     "output_type": "stream",
     "text": [
      "📊 ESTADÍSTICAS POR TIPO:\n",
      "==================================================\n",
      "\n",
      "🔹 Económico:\n",
      "   Media: 1,122,946.37\n",
      "   Mediana: 1,129,791.54\n",
      "   Mín: 912,279.54\n",
      "   Máx: 1,276,906.49\n",
      "   Registros: 48\n",
      "\n",
      "🔹 Población:\n",
      "   Media: 52,394.44\n",
      "   Mediana: 52,439.62\n",
      "   Mín: 50,058.47\n",
      "   Máx: 54,698.02\n",
      "   Registros: 47\n",
      "\n",
      "🔹 Temperatura:\n",
      "   Media: 14.91\n",
      "   Mediana: 15.27\n",
      "   Mín: 1.22\n",
      "   Máx: 26.08\n",
      "   Registros: 47\n"
     ]
    },
    {
     "data": {
      "application/vnd.plotly.v1+json": {
       "config": {
        "plotlyServerURL": "https://plot.ly"
       },
       "data": [
        {
         "alignmentgroup": "True",
         "hovertemplate": "Tipo de Serie=%{x}<br>Valor=%{y}<extra></extra>",
         "legendgroup": "Económico",
         "marker": {
          "color": "#636efa"
         },
         "name": "Económico",
         "notched": false,
         "offsetgroup": "Económico",
         "orientation": "v",
         "showlegend": true,
         "type": "box",
         "x": [
          "Económico",
          "Económico",
          "Económico",
          "Económico",
          "Económico",
          "Económico",
          "Económico",
          "Económico",
          "Económico",
          "Económico",
          "Económico",
          "Económico",
          "Económico",
          "Económico",
          "Económico",
          "Económico",
          "Económico",
          "Económico",
          "Económico",
          "Económico",
          "Económico",
          "Económico",
          "Económico",
          "Económico",
          "Económico",
          "Económico",
          "Económico",
          "Económico",
          "Económico",
          "Económico",
          "Económico",
          "Económico",
          "Económico",
          "Económico",
          "Económico",
          "Económico",
          "Económico",
          "Económico",
          "Económico",
          "Económico",
          "Económico",
          "Económico",
          "Económico",
          "Económico",
          "Económico",
          "Económico",
          "Económico",
          "Económico"
         ],
         "x0": " ",
         "xaxis": "x",
         "y": {
          "bdata": "Na1wFC/XK0GmSKyo3sQuQeH0Y70DtS5BWgizAYLqMEGVBYjGQ8QuQS2jsFSg0C1BPjsi7bbrL0GT+YT4sykwQd1LOaP/PS5Bi25siSHZL0F6CCcIhiswQX/GxGl4BzFBpwZTwAUQMUEqkPpfgzMwQX3k9lfUiTBBIRGFl7djMEFQsizD614xQTi8PAwSgDFBYyxnJtvTMEHvX2mQ8yAxQaMujX9Q3DBB/ueE/k9vMUH/y6sfxpQxQTLBFS/HDTBBfJJ3PvUzMUGun3UtJ/EwQY2V40KesDJBRkB7hbG7MUEtgUlcdswyQdMJ9W43JzJBay+xNWS5MEG0hR7ViUYxQZsVm4+ZrDFBZIkdqfqwMEGVbQwGBUsyQbEMn8YGWzJBJ/EgTc2cMUFhLgLukY8xQYDZE5veojJBGPsLzIqWMkE1oPd86nszQWnaagqnkzFBtbHRfs69MUGhaM4XYYoxQUoiiG96zTJBE4X6Jv1QM0F/LapWPUAyQe07L0PgpDFB",
          "dtype": "f8"
         },
         "y0": " ",
         "yaxis": "y"
        },
        {
         "alignmentgroup": "True",
         "hovertemplate": "Tipo de Serie=%{x}<br>Valor=%{y}<extra></extra>",
         "legendgroup": "Población",
         "marker": {
          "color": "#EF553B"
         },
         "name": "Población",
         "notched": false,
         "offsetgroup": "Población",
         "orientation": "v",
         "showlegend": true,
         "type": "box",
         "x": [
          "Población",
          "Población",
          "Población",
          "Población",
          "Población",
          "Población",
          "Población",
          "Población",
          "Población",
          "Población",
          "Población",
          "Población",
          "Población",
          "Población",
          "Población",
          "Población",
          "Población",
          "Población",
          "Población",
          "Población",
          "Población",
          "Población",
          "Población",
          "Población",
          "Población",
          "Población",
          "Población",
          "Población",
          "Población",
          "Población",
          "Población",
          "Población",
          "Población",
          "Población",
          "Población",
          "Población",
          "Población",
          "Población",
          "Población",
          "Población",
          "Población",
          "Población",
          "Población",
          "Población",
          "Población",
          "Población",
          "Población"
         ],
         "x0": " ",
         "xaxis": "x",
         "y": {
          "bdata": "xWIE6E5x6EBok5tRZIboQKyvheSojehAKIsbgMuW6ED5X5Xpx7DoQBqcRrBDuOhASrVQOajB6EA5kjIEsM7oQOKkPw/h1uhAKxrRXFfr6EAlSv7+RO7oQGkJDYGGAelAuOPxKa8Z6UBU2DAbpxbpQDlN7ydiLulATP1AMaIx6UB8ErBIlTbpQAELvGYHVelAphGr2ENf6UDTnaVmy2fpQBDpJUXgaOlAhcpEiDuC6UCpm+OrsonpQDunEeyxo+lA3u+X8vOa6UB/7C/hF6npQNi4H5AJu+lAsDuHtITB6UD6tRRE+8XpQP8YIRdP4+lAS15y/bXt6UBdXbEgQvrpQG8f74ePAOpAqw0UkqYE6kDU/Rs1tRbqQM2bvOgfKOpAS8sty+4z6kDNuQE5v0LqQMdcpKFDUepAGg5Buodb6kAN4u3bTmfqQDw0gTozeupAfZf/MgCG6kAa49VznI3qQMKant1jnepAcEeoMx6l6kCtXFLHQLXqQA==",
          "dtype": "f8"
         },
         "y0": " ",
         "yaxis": "y"
        },
        {
         "alignmentgroup": "True",
         "hovertemplate": "Tipo de Serie=%{x}<br>Valor=%{y}<extra></extra>",
         "legendgroup": "Temperatura",
         "marker": {
          "color": "#00cc96"
         },
         "name": "Temperatura",
         "notched": false,
         "offsetgroup": "Temperatura",
         "orientation": "v",
         "showlegend": true,
         "type": "box",
         "x": [
          "Temperatura",
          "Temperatura",
          "Temperatura",
          "Temperatura",
          "Temperatura",
          "Temperatura",
          "Temperatura",
          "Temperatura",
          "Temperatura",
          "Temperatura",
          "Temperatura",
          "Temperatura",
          "Temperatura",
          "Temperatura",
          "Temperatura",
          "Temperatura",
          "Temperatura",
          "Temperatura",
          "Temperatura",
          "Temperatura",
          "Temperatura",
          "Temperatura",
          "Temperatura",
          "Temperatura",
          "Temperatura",
          "Temperatura",
          "Temperatura",
          "Temperatura",
          "Temperatura",
          "Temperatura",
          "Temperatura",
          "Temperatura",
          "Temperatura",
          "Temperatura",
          "Temperatura",
          "Temperatura",
          "Temperatura",
          "Temperatura",
          "Temperatura",
          "Temperatura",
          "Temperatura",
          "Temperatura",
          "Temperatura",
          "Temperatura",
          "Temperatura",
          "Temperatura",
          "Temperatura"
         ],
         "x0": " ",
         "xaxis": "x",
         "y": {
          "bdata": "zJQb4ESII0Bsv+nwhowuQOkDtD2LpTFA5ca0FVgTOkBjFS/pD9s4QLZM52VFhjdAgDppCYK7NEA1WN9gIZItQCO0Ti7HBiZA2plTTiS/FUC/wO9OLxAUQBIxTrQiKhlA3br4dT+CIkBbc36c4MgsQGRDSjaB5zJAoWCBvYzTNUCGZzGO4u04QAqBxlevczlAXO/UD6p6M0BXpVb7/FowQIuGRqWQtyRATDeGL4GzIUALi0afbeMUQI5WH+sPWRhA6wYWUi0MI0Cm0Zkom8cwQLKqw2HibzFAVp6UKQ1pNEA0LCd+jE04QHuh7pxr+zdAXMy8zNjvMEBLUgJiWucvQGelFe/5HyxA1f7qItFNIEBKgoxXvYnzP7oWV776NiFAIXQdvJTfIEB7KwwUZPomQN81faY4LjJAlWsZooYANkCCXPAHmw46QLen1snr1DZA1SgJklA9NUDuscnxWgEqQNyd0uXYKiVA75OjCq2ZEkBT46WxaFwKQA==",
          "dtype": "f8"
         },
         "y0": " ",
         "yaxis": "y"
        }
       ],
       "layout": {
        "boxmode": "overlay",
        "height": 500,
        "legend": {
         "title": {
          "text": "Tipo de Serie"
         },
         "tracegroupgap": 0
        },
        "template": {
         "data": {
          "bar": [
           {
            "error_x": {
             "color": "#2a3f5f"
            },
            "error_y": {
             "color": "#2a3f5f"
            },
            "marker": {
             "line": {
              "color": "#E5ECF6",
              "width": 0.5
             },
             "pattern": {
              "fillmode": "overlay",
              "size": 10,
              "solidity": 0.2
             }
            },
            "type": "bar"
           }
          ],
          "barpolar": [
           {
            "marker": {
             "line": {
              "color": "#E5ECF6",
              "width": 0.5
             },
             "pattern": {
              "fillmode": "overlay",
              "size": 10,
              "solidity": 0.2
             }
            },
            "type": "barpolar"
           }
          ],
          "carpet": [
           {
            "aaxis": {
             "endlinecolor": "#2a3f5f",
             "gridcolor": "white",
             "linecolor": "white",
             "minorgridcolor": "white",
             "startlinecolor": "#2a3f5f"
            },
            "baxis": {
             "endlinecolor": "#2a3f5f",
             "gridcolor": "white",
             "linecolor": "white",
             "minorgridcolor": "white",
             "startlinecolor": "#2a3f5f"
            },
            "type": "carpet"
           }
          ],
          "choropleth": [
           {
            "colorbar": {
             "outlinewidth": 0,
             "ticks": ""
            },
            "type": "choropleth"
           }
          ],
          "contour": [
           {
            "colorbar": {
             "outlinewidth": 0,
             "ticks": ""
            },
            "colorscale": [
             [
              0,
              "#0d0887"
             ],
             [
              0.1111111111111111,
              "#46039f"
             ],
             [
              0.2222222222222222,
              "#7201a8"
             ],
             [
              0.3333333333333333,
              "#9c179e"
             ],
             [
              0.4444444444444444,
              "#bd3786"
             ],
             [
              0.5555555555555556,
              "#d8576b"
             ],
             [
              0.6666666666666666,
              "#ed7953"
             ],
             [
              0.7777777777777778,
              "#fb9f3a"
             ],
             [
              0.8888888888888888,
              "#fdca26"
             ],
             [
              1,
              "#f0f921"
             ]
            ],
            "type": "contour"
           }
          ],
          "contourcarpet": [
           {
            "colorbar": {
             "outlinewidth": 0,
             "ticks": ""
            },
            "type": "contourcarpet"
           }
          ],
          "heatmap": [
           {
            "colorbar": {
             "outlinewidth": 0,
             "ticks": ""
            },
            "colorscale": [
             [
              0,
              "#0d0887"
             ],
             [
              0.1111111111111111,
              "#46039f"
             ],
             [
              0.2222222222222222,
              "#7201a8"
             ],
             [
              0.3333333333333333,
              "#9c179e"
             ],
             [
              0.4444444444444444,
              "#bd3786"
             ],
             [
              0.5555555555555556,
              "#d8576b"
             ],
             [
              0.6666666666666666,
              "#ed7953"
             ],
             [
              0.7777777777777778,
              "#fb9f3a"
             ],
             [
              0.8888888888888888,
              "#fdca26"
             ],
             [
              1,
              "#f0f921"
             ]
            ],
            "type": "heatmap"
           }
          ],
          "histogram": [
           {
            "marker": {
             "pattern": {
              "fillmode": "overlay",
              "size": 10,
              "solidity": 0.2
             }
            },
            "type": "histogram"
           }
          ],
          "histogram2d": [
           {
            "colorbar": {
             "outlinewidth": 0,
             "ticks": ""
            },
            "colorscale": [
             [
              0,
              "#0d0887"
             ],
             [
              0.1111111111111111,
              "#46039f"
             ],
             [
              0.2222222222222222,
              "#7201a8"
             ],
             [
              0.3333333333333333,
              "#9c179e"
             ],
             [
              0.4444444444444444,
              "#bd3786"
             ],
             [
              0.5555555555555556,
              "#d8576b"
             ],
             [
              0.6666666666666666,
              "#ed7953"
             ],
             [
              0.7777777777777778,
              "#fb9f3a"
             ],
             [
              0.8888888888888888,
              "#fdca26"
             ],
             [
              1,
              "#f0f921"
             ]
            ],
            "type": "histogram2d"
           }
          ],
          "histogram2dcontour": [
           {
            "colorbar": {
             "outlinewidth": 0,
             "ticks": ""
            },
            "colorscale": [
             [
              0,
              "#0d0887"
             ],
             [
              0.1111111111111111,
              "#46039f"
             ],
             [
              0.2222222222222222,
              "#7201a8"
             ],
             [
              0.3333333333333333,
              "#9c179e"
             ],
             [
              0.4444444444444444,
              "#bd3786"
             ],
             [
              0.5555555555555556,
              "#d8576b"
             ],
             [
              0.6666666666666666,
              "#ed7953"
             ],
             [
              0.7777777777777778,
              "#fb9f3a"
             ],
             [
              0.8888888888888888,
              "#fdca26"
             ],
             [
              1,
              "#f0f921"
             ]
            ],
            "type": "histogram2dcontour"
           }
          ],
          "mesh3d": [
           {
            "colorbar": {
             "outlinewidth": 0,
             "ticks": ""
            },
            "type": "mesh3d"
           }
          ],
          "parcoords": [
           {
            "line": {
             "colorbar": {
              "outlinewidth": 0,
              "ticks": ""
             }
            },
            "type": "parcoords"
           }
          ],
          "pie": [
           {
            "automargin": true,
            "type": "pie"
           }
          ],
          "scatter": [
           {
            "fillpattern": {
             "fillmode": "overlay",
             "size": 10,
             "solidity": 0.2
            },
            "type": "scatter"
           }
          ],
          "scatter3d": [
           {
            "line": {
             "colorbar": {
              "outlinewidth": 0,
              "ticks": ""
             }
            },
            "marker": {
             "colorbar": {
              "outlinewidth": 0,
              "ticks": ""
             }
            },
            "type": "scatter3d"
           }
          ],
          "scattercarpet": [
           {
            "marker": {
             "colorbar": {
              "outlinewidth": 0,
              "ticks": ""
             }
            },
            "type": "scattercarpet"
           }
          ],
          "scattergeo": [
           {
            "marker": {
             "colorbar": {
              "outlinewidth": 0,
              "ticks": ""
             }
            },
            "type": "scattergeo"
           }
          ],
          "scattergl": [
           {
            "marker": {
             "colorbar": {
              "outlinewidth": 0,
              "ticks": ""
             }
            },
            "type": "scattergl"
           }
          ],
          "scattermap": [
           {
            "marker": {
             "colorbar": {
              "outlinewidth": 0,
              "ticks": ""
             }
            },
            "type": "scattermap"
           }
          ],
          "scattermapbox": [
           {
            "marker": {
             "colorbar": {
              "outlinewidth": 0,
              "ticks": ""
             }
            },
            "type": "scattermapbox"
           }
          ],
          "scatterpolar": [
           {
            "marker": {
             "colorbar": {
              "outlinewidth": 0,
              "ticks": ""
             }
            },
            "type": "scatterpolar"
           }
          ],
          "scatterpolargl": [
           {
            "marker": {
             "colorbar": {
              "outlinewidth": 0,
              "ticks": ""
             }
            },
            "type": "scatterpolargl"
           }
          ],
          "scatterternary": [
           {
            "marker": {
             "colorbar": {
              "outlinewidth": 0,
              "ticks": ""
             }
            },
            "type": "scatterternary"
           }
          ],
          "surface": [
           {
            "colorbar": {
             "outlinewidth": 0,
             "ticks": ""
            },
            "colorscale": [
             [
              0,
              "#0d0887"
             ],
             [
              0.1111111111111111,
              "#46039f"
             ],
             [
              0.2222222222222222,
              "#7201a8"
             ],
             [
              0.3333333333333333,
              "#9c179e"
             ],
             [
              0.4444444444444444,
              "#bd3786"
             ],
             [
              0.5555555555555556,
              "#d8576b"
             ],
             [
              0.6666666666666666,
              "#ed7953"
             ],
             [
              0.7777777777777778,
              "#fb9f3a"
             ],
             [
              0.8888888888888888,
              "#fdca26"
             ],
             [
              1,
              "#f0f921"
             ]
            ],
            "type": "surface"
           }
          ],
          "table": [
           {
            "cells": {
             "fill": {
              "color": "#EBF0F8"
             },
             "line": {
              "color": "white"
             }
            },
            "header": {
             "fill": {
              "color": "#C8D4E3"
             },
             "line": {
              "color": "white"
             }
            },
            "type": "table"
           }
          ]
         },
         "layout": {
          "annotationdefaults": {
           "arrowcolor": "#2a3f5f",
           "arrowhead": 0,
           "arrowwidth": 1
          },
          "autotypenumbers": "strict",
          "coloraxis": {
           "colorbar": {
            "outlinewidth": 0,
            "ticks": ""
           }
          },
          "colorscale": {
           "diverging": [
            [
             0,
             "#8e0152"
            ],
            [
             0.1,
             "#c51b7d"
            ],
            [
             0.2,
             "#de77ae"
            ],
            [
             0.3,
             "#f1b6da"
            ],
            [
             0.4,
             "#fde0ef"
            ],
            [
             0.5,
             "#f7f7f7"
            ],
            [
             0.6,
             "#e6f5d0"
            ],
            [
             0.7,
             "#b8e186"
            ],
            [
             0.8,
             "#7fbc41"
            ],
            [
             0.9,
             "#4d9221"
            ],
            [
             1,
             "#276419"
            ]
           ],
           "sequential": [
            [
             0,
             "#0d0887"
            ],
            [
             0.1111111111111111,
             "#46039f"
            ],
            [
             0.2222222222222222,
             "#7201a8"
            ],
            [
             0.3333333333333333,
             "#9c179e"
            ],
            [
             0.4444444444444444,
             "#bd3786"
            ],
            [
             0.5555555555555556,
             "#d8576b"
            ],
            [
             0.6666666666666666,
             "#ed7953"
            ],
            [
             0.7777777777777778,
             "#fb9f3a"
            ],
            [
             0.8888888888888888,
             "#fdca26"
            ],
            [
             1,
             "#f0f921"
            ]
           ],
           "sequentialminus": [
            [
             0,
             "#0d0887"
            ],
            [
             0.1111111111111111,
             "#46039f"
            ],
            [
             0.2222222222222222,
             "#7201a8"
            ],
            [
             0.3333333333333333,
             "#9c179e"
            ],
            [
             0.4444444444444444,
             "#bd3786"
            ],
            [
             0.5555555555555556,
             "#d8576b"
            ],
            [
             0.6666666666666666,
             "#ed7953"
            ],
            [
             0.7777777777777778,
             "#fb9f3a"
            ],
            [
             0.8888888888888888,
             "#fdca26"
            ],
            [
             1,
             "#f0f921"
            ]
           ]
          },
          "colorway": [
           "#636efa",
           "#EF553B",
           "#00cc96",
           "#ab63fa",
           "#FFA15A",
           "#19d3f3",
           "#FF6692",
           "#B6E880",
           "#FF97FF",
           "#FECB52"
          ],
          "font": {
           "color": "#2a3f5f"
          },
          "geo": {
           "bgcolor": "white",
           "lakecolor": "white",
           "landcolor": "#E5ECF6",
           "showlakes": true,
           "showland": true,
           "subunitcolor": "white"
          },
          "hoverlabel": {
           "align": "left"
          },
          "hovermode": "closest",
          "mapbox": {
           "style": "light"
          },
          "paper_bgcolor": "white",
          "plot_bgcolor": "#E5ECF6",
          "polar": {
           "angularaxis": {
            "gridcolor": "white",
            "linecolor": "white",
            "ticks": ""
           },
           "bgcolor": "#E5ECF6",
           "radialaxis": {
            "gridcolor": "white",
            "linecolor": "white",
            "ticks": ""
           }
          },
          "scene": {
           "xaxis": {
            "backgroundcolor": "#E5ECF6",
            "gridcolor": "white",
            "gridwidth": 2,
            "linecolor": "white",
            "showbackground": true,
            "ticks": "",
            "zerolinecolor": "white"
           },
           "yaxis": {
            "backgroundcolor": "#E5ECF6",
            "gridcolor": "white",
            "gridwidth": 2,
            "linecolor": "white",
            "showbackground": true,
            "ticks": "",
            "zerolinecolor": "white"
           },
           "zaxis": {
            "backgroundcolor": "#E5ECF6",
            "gridcolor": "white",
            "gridwidth": 2,
            "linecolor": "white",
            "showbackground": true,
            "ticks": "",
            "zerolinecolor": "white"
           }
          },
          "shapedefaults": {
           "line": {
            "color": "#2a3f5f"
           }
          },
          "ternary": {
           "aaxis": {
            "gridcolor": "white",
            "linecolor": "white",
            "ticks": ""
           },
           "baxis": {
            "gridcolor": "white",
            "linecolor": "white",
            "ticks": ""
           },
           "bgcolor": "#E5ECF6",
           "caxis": {
            "gridcolor": "white",
            "linecolor": "white",
            "ticks": ""
           }
          },
          "title": {
           "x": 0.05
          },
          "xaxis": {
           "automargin": true,
           "gridcolor": "white",
           "linecolor": "white",
           "ticks": "",
           "title": {
            "standoff": 15
           },
           "zerolinecolor": "white",
           "zerolinewidth": 2
          },
          "yaxis": {
           "automargin": true,
           "gridcolor": "white",
           "linecolor": "white",
           "ticks": "",
           "title": {
            "standoff": 15
           },
           "zerolinecolor": "white",
           "zerolinewidth": 2
          }
         }
        },
        "title": {
         "text": "📦 Distribución de Valores por Tipo de Serie"
        },
        "xaxis": {
         "anchor": "y",
         "categoryarray": [
          "Económico",
          "Población",
          "Temperatura"
         ],
         "categoryorder": "array",
         "domain": [
          0,
          1
         ],
         "title": {
          "text": "Tipo de Serie"
         }
        },
        "yaxis": {
         "anchor": "x",
         "domain": [
          0,
          1
         ],
         "title": {
          "text": "Valor"
         }
        }
       }
      },
      "image/png": "[encoded data removed]"
     },
     "metadata": {},
     "output_type": "display_data"
    },
    {
     "name": "stdout",
     "output_type": "stream",
     "text": [
      "\n",
      "✅ Estadísticas y box plot creados\n"
     ]
    }
   ],
   "source": [
    "# 📈 VISUALIZACIÓN 3: DISTRIBUCIÓN DE VALORES\n",
    "# ==========================================\n",
    "\n",
    "# Estadísticas básicas\n",
    "print(\"📊 ESTADÍSTICAS POR TIPO:\")\n",
    "print(\"=\" * 50)\n",
    "for tipo in datos['tipo'].unique():\n",
    "    data_tipo = datos[datos['tipo'] == tipo]\n",
    "    print(f\"\\n🔹 {tipo}:\")\n",
    "    print(f\"   Media: {data_tipo['valor'].mean():,.2f}\")\n",
    "    print(f\"   Mediana: {data_tipo['valor'].median():,.2f}\")\n",
    "    print(f\"   Mín: {data_tipo['valor'].min():,.2f}\")\n",
    "    print(f\"   Máx: {data_tipo['valor'].max():,.2f}\")\n",
    "    print(f\"   Registros: {len(data_tipo)}\")\n",
    "\n",
    "# Box plot\n",
    "fig = px.box(datos, x='tipo', y='valor', color='tipo',\n",
    "             title='📦 Distribución de Valores por Tipo de Serie',\n",
    "             labels={'valor': 'Valor', 'tipo': 'Tipo de Serie'})\n",
    "\n",
    "fig.update_layout(height=500)\n",
    "fig.show()\n",
    "\n",
    "print(\"\\n✅ Estadísticas y box plot creados\")"
   ]
  },
  {
   "cell_type": "code",
   "execution_count": 9,
   "id": "0d650d66-02a6-4817-8bf0-c8fda2e4735e",
   "metadata": {},
   "outputs": [
    {
     "data": {
      "application/vnd.plotly.v1+json": {
       "config": {
        "plotlyServerURL": "https://plot.ly"
       },
       "data": [
        {
         "alignmentgroup": "True",
         "hovertemplate": "tipo=Económico<br>Año=%{x}<br>Valor=%{y}<extra></extra>",
         "legendgroup": "Económico",
         "marker": {
          "color": "#636efa"
         },
         "name": "Económico",
         "notched": false,
         "offsetgroup": "Económico",
         "orientation": "v",
         "showlegend": true,
         "type": "box",
         "x": {
          "bdata": "5AcAAOQHAADkBwAA5AcAAOQHAADkBwAA5AcAAOQHAADkBwAA5AcAAOQHAADkBwAA5QcAAOUHAADlBwAA5QcAAOUHAADlBwAA5QcAAOUHAADlBwAA5QcAAOUHAADlBwAA5gcAAOYHAADmBwAA5gcAAOYHAADmBwAA5gcAAOYHAADmBwAA5gcAAOYHAADmBwAA5wcAAOcHAADnBwAA5wcAAOcHAADnBwAA5wcAAOcHAADnBwAA5wcAAOcHAADnBwAA",
          "dtype": "i4"
         },
         "x0": " ",
         "xaxis": "x",
         "y": {
          "bdata": "Na1wFC/XK0GmSKyo3sQuQeH0Y70DtS5BWgizAYLqMEGVBYjGQ8QuQS2jsFSg0C1BPjsi7bbrL0GT+YT4sykwQd1LOaP/PS5Bi25siSHZL0F6CCcIhiswQX/GxGl4BzFBpwZTwAUQMUEqkPpfgzMwQX3k9lfUiTBBIRGFl7djMEFQsizD614xQTi8PAwSgDFBYyxnJtvTMEHvX2mQ8yAxQaMujX9Q3DBB/ueE/k9vMUH/y6sfxpQxQTLBFS/HDTBBfJJ3PvUzMUGun3UtJ/EwQY2V40KesDJBRkB7hbG7MUEtgUlcdswyQdMJ9W43JzJBay+xNWS5MEG0hR7ViUYxQZsVm4+ZrDFBZIkdqfqwMEGVbQwGBUsyQbEMn8YGWzJBJ/EgTc2cMUFhLgLukY8xQYDZE5veojJBGPsLzIqWMkE1oPd86nszQWnaagqnkzFBtbHRfs69MUGhaM4XYYoxQUoiiG96zTJBE4X6Jv1QM0F/LapWPUAyQe07L0PgpDFB",
          "dtype": "f8"
         },
         "y0": " ",
         "yaxis": "y"
        },
        {
         "alignmentgroup": "True",
         "hovertemplate": "tipo=Población<br>Año=%{x}<br>Valor=%{y}<extra></extra>",
         "legendgroup": "Población",
         "marker": {
          "color": "#EF553B"
         },
         "name": "Población",
         "notched": false,
         "offsetgroup": "Población",
         "orientation": "v",
         "showlegend": true,
         "type": "box",
         "x": {
          "bdata": "5AcAAOQHAADkBwAA5AcAAOQHAADkBwAA5AcAAOQHAADkBwAA5AcAAOQHAADlBwAA5QcAAOUHAADlBwAA5QcAAOUHAADlBwAA5QcAAOUHAADlBwAA5QcAAOUHAADmBwAA5gcAAOYHAADmBwAA5gcAAOYHAADmBwAA5gcAAOYHAADmBwAA5gcAAOYHAADnBwAA5wcAAOcHAADnBwAA5wcAAOcHAADnBwAA5wcAAOcHAADnBwAA5wcAAOcHAAA=",
          "dtype": "i4"
         },
         "x0": " ",
         "xaxis": "x",
         "y": {
          "bdata": "xWIE6E5x6EBok5tRZIboQKyvheSojehAKIsbgMuW6ED5X5Xpx7DoQBqcRrBDuOhASrVQOajB6EA5kjIEsM7oQOKkPw/h1uhAKxrRXFfr6EAlSv7+RO7oQGkJDYGGAelAuOPxKa8Z6UBU2DAbpxbpQDlN7ydiLulATP1AMaIx6UB8ErBIlTbpQAELvGYHVelAphGr2ENf6UDTnaVmy2fpQBDpJUXgaOlAhcpEiDuC6UCpm+OrsonpQDunEeyxo+lA3u+X8vOa6UB/7C/hF6npQNi4H5AJu+lAsDuHtITB6UD6tRRE+8XpQP8YIRdP4+lAS15y/bXt6UBdXbEgQvrpQG8f74ePAOpAqw0UkqYE6kDU/Rs1tRbqQM2bvOgfKOpAS8sty+4z6kDNuQE5v0LqQMdcpKFDUepAGg5Buodb6kAN4u3bTmfqQDw0gTozeupAfZf/MgCG6kAa49VznI3qQMKant1jnepAcEeoMx6l6kCtXFLHQLXqQA==",
          "dtype": "f8"
         },
         "y0": " ",
         "yaxis": "y"
        },
        {
         "alignmentgroup": "True",
         "hovertemplate": "tipo=Temperatura<br>Año=%{x}<br>Valor=%{y}<extra></extra>",
         "legendgroup": "Temperatura",
         "marker": {
          "color": "#00cc96"
         },
         "name": "Temperatura",
         "notched": false,
         "offsetgroup": "Temperatura",
         "orientation": "v",
         "showlegend": true,
         "type": "box",
         "x": {
          "bdata": "5AcAAOQHAADkBwAA5AcAAOQHAADkBwAA5AcAAOQHAADkBwAA5AcAAOQHAADlBwAA5QcAAOUHAADlBwAA5QcAAOUHAADlBwAA5QcAAOUHAADlBwAA5QcAAOUHAADmBwAA5gcAAOYHAADmBwAA5gcAAOYHAADmBwAA5gcAAOYHAADmBwAA5gcAAOYHAADnBwAA5wcAAOcHAADnBwAA5wcAAOcHAADnBwAA5wcAAOcHAADnBwAA5wcAAOcHAAA=",
          "dtype": "i4"
         },
         "x0": " ",
         "xaxis": "x",
         "y": {
          "bdata": "zJQb4ESII0Bsv+nwhowuQOkDtD2LpTFA5ca0FVgTOkBjFS/pD9s4QLZM52VFhjdAgDppCYK7NEA1WN9gIZItQCO0Ti7HBiZA2plTTiS/FUC/wO9OLxAUQBIxTrQiKhlA3br4dT+CIkBbc36c4MgsQGRDSjaB5zJAoWCBvYzTNUCGZzGO4u04QAqBxlevczlAXO/UD6p6M0BXpVb7/FowQIuGRqWQtyRATDeGL4GzIUALi0afbeMUQI5WH+sPWRhA6wYWUi0MI0Cm0Zkom8cwQLKqw2HibzFAVp6UKQ1pNEA0LCd+jE04QHuh7pxr+zdAXMy8zNjvMEBLUgJiWucvQGelFe/5HyxA1f7qItFNIEBKgoxXvYnzP7oWV776NiFAIXQdvJTfIEB7KwwUZPomQN81faY4LjJAlWsZooYANkCCXPAHmw46QLen1snr1DZA1SgJklA9NUDuscnxWgEqQNyd0uXYKiVA75OjCq2ZEkBT46WxaFwKQA==",
          "dtype": "f8"
         },
         "y0": " ",
         "yaxis": "y"
        }
       ],
       "layout": {
        "boxmode": "group",
        "legend": {
         "title": {
          "text": "tipo"
         },
         "tracegroupgap": 0
        },
        "template": {
         "data": {
          "bar": [
           {
            "error_x": {
             "color": "#2a3f5f"
            },
            "error_y": {
             "color": "#2a3f5f"
            },
            "marker": {
             "line": {
              "color": "#E5ECF6",
              "width": 0.5
             },
             "pattern": {
              "fillmode": "overlay",
              "size": 10,
              "solidity": 0.2
             }
            },
            "type": "bar"
           }
          ],
          "barpolar": [
           {
            "marker": {
             "line": {
              "color": "#E5ECF6",
              "width": 0.5
             },
             "pattern": {
              "fillmode": "overlay",
              "size": 10,
              "solidity": 0.2
             }
            },
            "type": "barpolar"
           }
          ],
          "carpet": [
           {
            "aaxis": {
             "endlinecolor": "#2a3f5f",
             "gridcolor": "white",
             "linecolor": "white",
             "minorgridcolor": "white",
             "startlinecolor": "#2a3f5f"
            },
            "baxis": {
             "endlinecolor": "#2a3f5f",
             "gridcolor": "white",
             "linecolor": "white",
             "minorgridcolor": "white",
             "startlinecolor": "#2a3f5f"
            },
            "type": "carpet"
           }
          ],
          "choropleth": [
           {
            "colorbar": {
             "outlinewidth": 0,
             "ticks": ""
            },
            "type": "choropleth"
           }
          ],
          "contour": [
           {
            "colorbar": {
             "outlinewidth": 0,
             "ticks": ""
            },
            "colorscale": [
             [
              0,
              "#0d0887"
             ],
             [
              0.1111111111111111,
              "#46039f"
             ],
             [
              0.2222222222222222,
              "#7201a8"
             ],
             [
              0.3333333333333333,
              "#9c179e"
             ],
             [
              0.4444444444444444,
              "#bd3786"
             ],
             [
              0.5555555555555556,
              "#d8576b"
             ],
             [
              0.6666666666666666,
              "#ed7953"
             ],
             [
              0.7777777777777778,
              "#fb9f3a"
             ],
             [
              0.8888888888888888,
              "#fdca26"
             ],
             [
              1,
              "#f0f921"
             ]
            ],
            "type": "contour"
           }
          ],
          "contourcarpet": [
           {
            "colorbar": {
             "outlinewidth": 0,
             "ticks": ""
            },
            "type": "contourcarpet"
           }
          ],
          "heatmap": [
           {
            "colorbar": {
             "outlinewidth": 0,
             "ticks": ""
            },
            "colorscale": [
             [
              0,
              "#0d0887"
             ],
             [
              0.1111111111111111,
              "#46039f"
             ],
             [
              0.2222222222222222,
              "#7201a8"
             ],
             [
              0.3333333333333333,
              "#9c179e"
             ],
             [
              0.4444444444444444,
              "#bd3786"
             ],
             [
              0.5555555555555556,
              "#d8576b"
             ],
             [
              0.6666666666666666,
              "#ed7953"
             ],
             [
              0.7777777777777778,
              "#fb9f3a"
             ],
             [
              0.8888888888888888,
              "#fdca26"
             ],
             [
              1,
              "#f0f921"
             ]
            ],
            "type": "heatmap"
           }
          ],
          "histogram": [
           {
            "marker": {
             "pattern": {
              "fillmode": "overlay",
              "size": 10,
              "solidity": 0.2
             }
            },
            "type": "histogram"
           }
          ],
          "histogram2d": [
           {
            "colorbar": {
             "outlinewidth": 0,
             "ticks": ""
            },
            "colorscale": [
             [
              0,
              "#0d0887"
             ],
             [
              0.1111111111111111,
              "#46039f"
             ],
             [
              0.2222222222222222,
              "#7201a8"
             ],
             [
              0.3333333333333333,
              "#9c179e"
             ],
             [
              0.4444444444444444,
              "#bd3786"
             ],
             [
              0.5555555555555556,
              "#d8576b"
             ],
             [
              0.6666666666666666,
              "#ed7953"
             ],
             [
              0.7777777777777778,
              "#fb9f3a"
             ],
             [
              0.8888888888888888,
              "#fdca26"
             ],
             [
              1,
              "#f0f921"
             ]
            ],
            "type": "histogram2d"
           }
          ],
          "histogram2dcontour": [
           {
            "colorbar": {
             "outlinewidth": 0,
             "ticks": ""
            },
            "colorscale": [
             [
              0,
              "#0d0887"
             ],
             [
              0.1111111111111111,
              "#46039f"
             ],
             [
              0.2222222222222222,
              "#7201a8"
             ],
             [
              0.3333333333333333,
              "#9c179e"
             ],
             [
              0.4444444444444444,
              "#bd3786"
             ],
             [
              0.5555555555555556,
              "#d8576b"
             ],
             [
              0.6666666666666666,
              "#ed7953"
             ],
             [
              0.7777777777777778,
              "#fb9f3a"
             ],
             [
              0.8888888888888888,
              "#fdca26"
             ],
             [
              1,
              "#f0f921"
             ]
            ],
            "type": "histogram2dcontour"
           }
          ],
          "mesh3d": [
           {
            "colorbar": {
             "outlinewidth": 0,
             "ticks": ""
            },
            "type": "mesh3d"
           }
          ],
          "parcoords": [
           {
            "line": {
             "colorbar": {
              "outlinewidth": 0,
              "ticks": ""
             }
            },
            "type": "parcoords"
           }
          ],
          "pie": [
           {
            "automargin": true,
            "type": "pie"
           }
          ],
          "scatter": [
           {
            "fillpattern": {
             "fillmode": "overlay",
             "size": 10,
             "solidity": 0.2
            },
            "type": "scatter"
           }
          ],
          "scatter3d": [
           {
            "line": {
             "colorbar": {
              "outlinewidth": 0,
              "ticks": ""
             }
            },
            "marker": {
             "colorbar": {
              "outlinewidth": 0,
              "ticks": ""
             }
            },
            "type": "scatter3d"
           }
          ],
          "scattercarpet": [
           {
            "marker": {
             "colorbar": {
              "outlinewidth": 0,
              "ticks": ""
             }
            },
            "type": "scattercarpet"
           }
          ],
          "scattergeo": [
           {
            "marker": {
             "colorbar": {
              "outlinewidth": 0,
              "ticks": ""
             }
            },
            "type": "scattergeo"
           }
          ],
          "scattergl": [
           {
            "marker": {
             "colorbar": {
              "outlinewidth": 0,
              "ticks": ""
             }
            },
            "type": "scattergl"
           }
          ],
          "scattermap": [
           {
            "marker": {
             "colorbar": {
              "outlinewidth": 0,
              "ticks": ""
             }
            },
            "type": "scattermap"
           }
          ],
          "scattermapbox": [
           {
            "marker": {
             "colorbar": {
              "outlinewidth": 0,
              "ticks": ""
             }
            },
            "type": "scattermapbox"
           }
          ],
          "scatterpolar": [
           {
            "marker": {
             "colorbar": {
              "outlinewidth": 0,
              "ticks": ""
             }
            },
            "type": "scatterpolar"
           }
          ],
          "scatterpolargl": [
           {
            "marker": {
             "colorbar": {
              "outlinewidth": 0,
              "ticks": ""
             }
            },
            "type": "scatterpolargl"
           }
          ],
          "scatterternary": [
           {
            "marker": {
             "colorbar": {
              "outlinewidth": 0,
              "ticks": ""
             }
            },
            "type": "scatterternary"
           }
          ],
          "surface": [
           {
            "colorbar": {
             "outlinewidth": 0,
             "ticks": ""
            },
            "colorscale": [
             [
              0,
              "#0d0887"
             ],
             [
              0.1111111111111111,
              "#46039f"
             ],
             [
              0.2222222222222222,
              "#7201a8"
             ],
             [
              0.3333333333333333,
              "#9c179e"
             ],
             [
              0.4444444444444444,
              "#bd3786"
             ],
             [
              0.5555555555555556,
              "#d8576b"
             ],
             [
              0.6666666666666666,
              "#ed7953"
             ],
             [
              0.7777777777777778,
              "#fb9f3a"
             ],
             [
              0.8888888888888888,
              "#fdca26"
             ],
             [
              1,
              "#f0f921"
             ]
            ],
            "type": "surface"
           }
          ],
          "table": [
           {
            "cells": {
             "fill": {
              "color": "#EBF0F8"
             },
             "line": {
              "color": "white"
             }
            },
            "header": {
             "fill": {
              "color": "#C8D4E3"
             },
             "line": {
              "color": "white"
             }
            },
            "type": "table"
           }
          ]
         },
         "layout": {
          "annotationdefaults": {
           "arrowcolor": "#2a3f5f",
           "arrowhead": 0,
           "arrowwidth": 1
          },
          "autotypenumbers": "strict",
          "coloraxis": {
           "colorbar": {
            "outlinewidth": 0,
            "ticks": ""
           }
          },
          "colorscale": {
           "diverging": [
            [
             0,
             "#8e0152"
            ],
            [
             0.1,
             "#c51b7d"
            ],
            [
             0.2,
             "#de77ae"
            ],
            [
             0.3,
             "#f1b6da"
            ],
            [
             0.4,
             "#fde0ef"
            ],
            [
             0.5,
             "#f7f7f7"
            ],
            [
             0.6,
             "#e6f5d0"
            ],
            [
             0.7,
             "#b8e186"
            ],
            [
             0.8,
             "#7fbc41"
            ],
            [
             0.9,
             "#4d9221"
            ],
            [
             1,
             "#276419"
            ]
           ],
           "sequential": [
            [
             0,
             "#0d0887"
            ],
            [
             0.1111111111111111,
             "#46039f"
            ],
            [
             0.2222222222222222,
             "#7201a8"
            ],
            [
             0.3333333333333333,
             "#9c179e"
            ],
            [
             0.4444444444444444,
             "#bd3786"
            ],
            [
             0.5555555555555556,
             "#d8576b"
            ],
            [
             0.6666666666666666,
             "#ed7953"
            ],
            [
             0.7777777777777778,
             "#fb9f3a"
            ],
            [
             0.8888888888888888,
             "#fdca26"
            ],
            [
             1,
             "#f0f921"
            ]
           ],
           "sequentialminus": [
            [
             0,
             "#0d0887"
            ],
            [
             0.1111111111111111,
             "#46039f"
            ],
            [
             0.2222222222222222,
             "#7201a8"
            ],
            [
             0.3333333333333333,
             "#9c179e"
            ],
            [
             0.4444444444444444,
             "#bd3786"
            ],
            [
             0.5555555555555556,
             "#d8576b"
            ],
            [
             0.6666666666666666,
             "#ed7953"
            ],
            [
             0.7777777777777778,
             "#fb9f3a"
            ],
            [
             0.8888888888888888,
             "#fdca26"
            ],
            [
             1,
             "#f0f921"
            ]
           ]
          },
          "colorway": [
           "#636efa",
           "#EF553B",
           "#00cc96",
           "#ab63fa",
           "#FFA15A",
           "#19d3f3",
           "#FF6692",
           "#B6E880",
           "#FF97FF",
           "#FECB52"
          ],
          "font": {
           "color": "#2a3f5f"
          },
          "geo": {
           "bgcolor": "white",
           "lakecolor": "white",
           "landcolor": "#E5ECF6",
           "showlakes": true,
           "showland": true,
           "subunitcolor": "white"
          },
          "hoverlabel": {
           "align": "left"
          },
          "hovermode": "closest",
          "mapbox": {
           "style": "light"
          },
          "paper_bgcolor": "white",
          "plot_bgcolor": "#E5ECF6",
          "polar": {
           "angularaxis": {
            "gridcolor": "white",
            "linecolor": "white",
            "ticks": ""
           },
           "bgcolor": "#E5ECF6",
           "radialaxis": {
            "gridcolor": "white",
            "linecolor": "white",
            "ticks": ""
           }
          },
          "scene": {
           "xaxis": {
            "backgroundcolor": "#E5ECF6",
            "gridcolor": "white",
            "gridwidth": 2,
            "linecolor": "white",
            "showbackground": true,
            "ticks": "",
            "zerolinecolor": "white"
           },
           "yaxis": {
            "backgroundcolor": "#E5ECF6",
            "gridcolor": "white",
            "gridwidth": 2,
            "linecolor": "white",
            "showbackground": true,
            "ticks": "",
            "zerolinecolor": "white"
           },
           "zaxis": {
            "backgroundcolor": "#E5ECF6",
            "gridcolor": "white",
            "gridwidth": 2,
            "linecolor": "white",
            "showbackground": true,
            "ticks": "",
            "zerolinecolor": "white"
           }
          },
          "shapedefaults": {
           "line": {
            "color": "#2a3f5f"
           }
          },
          "ternary": {
           "aaxis": {
            "gridcolor": "white",
            "linecolor": "white",
            "ticks": ""
           },
           "baxis": {
            "gridcolor": "white",
            "linecolor": "white",
            "ticks": ""
           },
           "bgcolor": "#E5ECF6",
           "caxis": {
            "gridcolor": "white",
            "linecolor": "white",
            "ticks": ""
           }
          },
          "title": {
           "x": 0.05
          },
          "xaxis": {
           "automargin": true,
           "gridcolor": "white",
           "linecolor": "white",
           "ticks": "",
           "title": {
            "standoff": 15
           },
           "zerolinecolor": "white",
           "zerolinewidth": 2
          },
          "yaxis": {
           "automargin": true,
           "gridcolor": "white",
           "linecolor": "white",
           "ticks": "",
           "title": {
            "standoff": 15
           },
           "zerolinecolor": "white",
           "zerolinewidth": 2
          }
         }
        },
        "title": {
         "text": "📅 Evolución Anual por Tipo"
        },
        "xaxis": {
         "anchor": "y",
         "domain": [
          0,
          1
         ],
         "title": {
          "text": "Año"
         }
        },
        "yaxis": {
         "anchor": "x",
         "domain": [
          0,
          1
         ],
         "title": {
          "text": "Valor"
         }
        }
       }
      },
      "image/png": "[encoded data removed]"
     },
     "metadata": {},
     "output_type": "display_data"
    },
    {
     "data": {
      "application/vnd.plotly.v1+json": {
       "config": {
        "plotlyServerURL": "https://plot.ly"
       },
       "data": [
        {
         "hovertemplate": "tipo=Económico<br>Mes=%{x}<br>Valor Promedio=%{y}<extra></extra>",
         "legendgroup": "Económico",
         "line": {
          "color": "#636efa",
          "dash": "solid"
         },
         "marker": {
          "symbol": "circle"
         },
         "mode": "lines",
         "name": "Económico",
         "orientation": "v",
         "showlegend": true,
         "type": "scatter",
         "x": {
          "bdata": "AQAAAAIAAAADAAAABAAAAAUAAAAGAAAABwAAAAgAAAAJAAAACgAAAAsAAAAMAAAA",
          "dtype": "i4"
         },
         "xaxis": "x",
         "y": {
          "bdata": "OfiI9RdzMEGjIPLzqoUwQX4TKMX0TTFBNtWveh1oMUGfdeyfW8IxQYI8/SvQCDFByMpeVDrQMEH20Xad5AYxQR5DExRZHTFBb8vUJHZXMUHjWyKh45IxQRQ0qqhJRTFB",
          "dtype": "f8"
         },
         "yaxis": "y"
        },
        {
         "hovertemplate": "tipo=Población<br>Mes=%{x}<br>Valor Promedio=%{y}<extra></extra>",
         "legendgroup": "Población",
         "line": {
          "color": "#EF553B",
          "dash": "solid"
         },
         "marker": {
          "symbol": "circle"
         },
         "mode": "lines",
         "name": "Población",
         "orientation": "v",
         "showlegend": true,
         "type": "scatter",
         "x": {
          "bdata": "AQAAAAIAAAADAAAABAAAAAUAAAAGAAAABwAAAAgAAAAJAAAACgAAAAsAAAAMAAAA",
          "dtype": "i4"
         },
         "xaxis": "x",
         "y": {
          "bdata": "0G6eHMiZ6UBqAO8zeFbpQIKEv6E4YulAoUSODxZy6UCQNAmIXnnpQJ8CktQphelAFj0pWrOa6UAub5uQKKXpQCHc13+Wr+lACdJ8Lm236UBzjrTq1cXpQBQQ1Gn70OlA",
          "dtype": "f8"
         },
         "yaxis": "y"
        },
        {
         "hovertemplate": "tipo=Temperatura<br>Mes=%{x}<br>Valor Promedio=%{y}<extra></extra>",
         "legendgroup": "Temperatura",
         "line": {
          "color": "#00cc96",
          "dash": "solid"
         },
         "marker": {
          "symbol": "circle"
         },
         "mode": "lines",
         "name": "Temperatura",
         "orientation": "v",
         "showlegend": true,
         "type": "scatter",
         "x": {
          "bdata": "AQAAAAIAAAADAAAABAAAAAUAAAAGAAAABwAAAAgAAAAJAAAACgAAAAsAAAAMAAAA",
          "dtype": "i4"
         },
         "xaxis": "x",
         "y": {
          "bdata": "B+ezXg37G0Ct8hGZkX0iQGQAqnzA9yxA+MkP38kKMkBcDLknHpQ2QGgBXn9GCTlAvMUcCZPyN0DDBwFe1ZgzQMcp1io0DC5AfF8fqkoCJ0CDZnZ/3RYbQAMvdk4ggg1A",
          "dtype": "f8"
         },
         "yaxis": "y"
        }
       ],
       "layout": {
        "legend": {
         "title": {
          "text": "tipo"
         },
         "tracegroupgap": 0
        },
        "template": {
         "data": {
          "bar": [
           {
            "error_x": {
             "color": "#2a3f5f"
            },
            "error_y": {
             "color": "#2a3f5f"
            },
            "marker": {
             "line": {
              "color": "#E5ECF6",
              "width": 0.5
             },
             "pattern": {
              "fillmode": "overlay",
              "size": 10,
              "solidity": 0.2
             }
            },
            "type": "bar"
           }
          ],
          "barpolar": [
           {
            "marker": {
             "line": {
              "color": "#E5ECF6",
              "width": 0.5
             },
             "pattern": {
              "fillmode": "overlay",
              "size": 10,
              "solidity": 0.2
             }
            },
            "type": "barpolar"
           }
          ],
          "carpet": [
           {
            "aaxis": {
             "endlinecolor": "#2a3f5f",
             "gridcolor": "white",
             "linecolor": "white",
             "minorgridcolor": "white",
             "startlinecolor": "#2a3f5f"
            },
            "baxis": {
             "endlinecolor": "#2a3f5f",
             "gridcolor": "white",
             "linecolor": "white",
             "minorgridcolor": "white",
             "startlinecolor": "#2a3f5f"
            },
            "type": "carpet"
           }
          ],
          "choropleth": [
           {
            "colorbar": {
             "outlinewidth": 0,
             "ticks": ""
            },
            "type": "choropleth"
           }
          ],
          "contour": [
           {
            "colorbar": {
             "outlinewidth": 0,
             "ticks": ""
            },
            "colorscale": [
             [
              0,
              "#0d0887"
             ],
             [
              0.1111111111111111,
              "#46039f"
             ],
             [
              0.2222222222222222,
              "#7201a8"
             ],
             [
              0.3333333333333333,
              "#9c179e"
             ],
             [
              0.4444444444444444,
              "#bd3786"
             ],
             [
              0.5555555555555556,
              "#d8576b"
             ],
             [
              0.6666666666666666,
              "#ed7953"
             ],
             [
              0.7777777777777778,
              "#fb9f3a"
             ],
             [
              0.8888888888888888,
              "#fdca26"
             ],
             [
              1,
              "#f0f921"
             ]
            ],
            "type": "contour"
           }
          ],
          "contourcarpet": [
           {
            "colorbar": {
             "outlinewidth": 0,
             "ticks": ""
            },
            "type": "contourcarpet"
           }
          ],
          "heatmap": [
           {
            "colorbar": {
             "outlinewidth": 0,
             "ticks": ""
            },
            "colorscale": [
             [
              0,
              "#0d0887"
             ],
             [
              0.1111111111111111,
              "#46039f"
             ],
             [
              0.2222222222222222,
              "#7201a8"
             ],
             [
              0.3333333333333333,
              "#9c179e"
             ],
             [
              0.4444444444444444,
              "#bd3786"
             ],
             [
              0.5555555555555556,
              "#d8576b"
             ],
             [
              0.6666666666666666,
              "#ed7953"
             ],
             [
              0.7777777777777778,
              "#fb9f3a"
             ],
             [
              0.8888888888888888,
              "#fdca26"
             ],
             [
              1,
              "#f0f921"
             ]
            ],
            "type": "heatmap"
           }
          ],
          "histogram": [
           {
            "marker": {
             "pattern": {
              "fillmode": "overlay",
              "size": 10,
              "solidity": 0.2
             }
            },
            "type": "histogram"
           }
          ],
          "histogram2d": [
           {
            "colorbar": {
             "outlinewidth": 0,
             "ticks": ""
            },
            "colorscale": [
             [
              0,
              "#0d0887"
             ],
             [
              0.1111111111111111,
              "#46039f"
             ],
             [
              0.2222222222222222,
              "#7201a8"
             ],
             [
              0.3333333333333333,
              "#9c179e"
             ],
             [
              0.4444444444444444,
              "#bd3786"
             ],
             [
              0.5555555555555556,
              "#d8576b"
             ],
             [
              0.6666666666666666,
              "#ed7953"
             ],
             [
              0.7777777777777778,
              "#fb9f3a"
             ],
             [
              0.8888888888888888,
              "#fdca26"
             ],
             [
              1,
              "#f0f921"
             ]
            ],
            "type": "histogram2d"
           }
          ],
          "histogram2dcontour": [
           {
            "colorbar": {
             "outlinewidth": 0,
             "ticks": ""
            },
            "colorscale": [
             [
              0,
              "#0d0887"
             ],
             [
              0.1111111111111111,
              "#46039f"
             ],
             [
              0.2222222222222222,
              "#7201a8"
             ],
             [
              0.3333333333333333,
              "#9c179e"
             ],
             [
              0.4444444444444444,
              "#bd3786"
             ],
             [
              0.5555555555555556,
              "#d8576b"
             ],
             [
              0.6666666666666666,
              "#ed7953"
             ],
             [
              0.7777777777777778,
              "#fb9f3a"
             ],
             [
              0.8888888888888888,
              "#fdca26"
             ],
             [
              1,
              "#f0f921"
             ]
            ],
            "type": "histogram2dcontour"
           }
          ],
          "mesh3d": [
           {
            "colorbar": {
             "outlinewidth": 0,
             "ticks": ""
            },
            "type": "mesh3d"
           }
          ],
          "parcoords": [
           {
            "line": {
             "colorbar": {
              "outlinewidth": 0,
              "ticks": ""
             }
            },
            "type": "parcoords"
           }
          ],
          "pie": [
           {
            "automargin": true,
            "type": "pie"
           }
          ],
          "scatter": [
           {
            "fillpattern": {
             "fillmode": "overlay",
             "size": 10,
             "solidity": 0.2
            },
            "type": "scatter"
           }
          ],
          "scatter3d": [
           {
            "line": {
             "colorbar": {
              "outlinewidth": 0,
              "ticks": ""
             }
            },
            "marker": {
             "colorbar": {
              "outlinewidth": 0,
              "ticks": ""
             }
            },
            "type": "scatter3d"
           }
          ],
          "scattercarpet": [
           {
            "marker": {
             "colorbar": {
              "outlinewidth": 0,
              "ticks": ""
             }
            },
            "type": "scattercarpet"
           }
          ],
          "scattergeo": [
           {
            "marker": {
             "colorbar": {
              "outlinewidth": 0,
              "ticks": ""
             }
            },
            "type": "scattergeo"
           }
          ],
          "scattergl": [
           {
            "marker": {
             "colorbar": {
              "outlinewidth": 0,
              "ticks": ""
             }
            },
            "type": "scattergl"
           }
          ],
          "scattermap": [
           {
            "marker": {
             "colorbar": {
              "outlinewidth": 0,
              "ticks": ""
             }
            },
            "type": "scattermap"
           }
          ],
          "scattermapbox": [
           {
            "marker": {
             "colorbar": {
              "outlinewidth": 0,
              "ticks": ""
             }
            },
            "type": "scattermapbox"
           }
          ],
          "scatterpolar": [
           {
            "marker": {
             "colorbar": {
              "outlinewidth": 0,
              "ticks": ""
             }
            },
            "type": "scatterpolar"
           }
          ],
          "scatterpolargl": [
           {
            "marker": {
             "colorbar": {
              "outlinewidth": 0,
              "ticks": ""
             }
            },
            "type": "scatterpolargl"
           }
          ],
          "scatterternary": [
           {
            "marker": {
             "colorbar": {
              "outlinewidth": 0,
              "ticks": ""
             }
            },
            "type": "scatterternary"
           }
          ],
          "surface": [
           {
            "colorbar": {
             "outlinewidth": 0,
             "ticks": ""
            },
            "colorscale": [
             [
              0,
              "#0d0887"
             ],
             [
              0.1111111111111111,
              "#46039f"
             ],
             [
              0.2222222222222222,
              "#7201a8"
             ],
             [
              0.3333333333333333,
              "#9c179e"
             ],
             [
              0.4444444444444444,
              "#bd3786"
             ],
             [
              0.5555555555555556,
              "#d8576b"
             ],
             [
              0.6666666666666666,
              "#ed7953"
             ],
             [
              0.7777777777777778,
              "#fb9f3a"
             ],
             [
              0.8888888888888888,
              "#fdca26"
             ],
             [
              1,
              "#f0f921"
             ]
            ],
            "type": "surface"
           }
          ],
          "table": [
           {
            "cells": {
             "fill": {
              "color": "#EBF0F8"
             },
             "line": {
              "color": "white"
             }
            },
            "header": {
             "fill": {
              "color": "#C8D4E3"
             },
             "line": {
              "color": "white"
             }
            },
            "type": "table"
           }
          ]
         },
         "layout": {
          "annotationdefaults": {
           "arrowcolor": "#2a3f5f",
           "arrowhead": 0,
           "arrowwidth": 1
          },
          "autotypenumbers": "strict",
          "coloraxis": {
           "colorbar": {
            "outlinewidth": 0,
            "ticks": ""
           }
          },
          "colorscale": {
           "diverging": [
            [
             0,
             "#8e0152"
            ],
            [
             0.1,
             "#c51b7d"
            ],
            [
             0.2,
             "#de77ae"
            ],
            [
             0.3,
             "#f1b6da"
            ],
            [
             0.4,
             "#fde0ef"
            ],
            [
             0.5,
             "#f7f7f7"
            ],
            [
             0.6,
             "#e6f5d0"
            ],
            [
             0.7,
             "#b8e186"
            ],
            [
             0.8,
             "#7fbc41"
            ],
            [
             0.9,
             "#4d9221"
            ],
            [
             1,
             "#276419"
            ]
           ],
           "sequential": [
            [
             0,
             "#0d0887"
            ],
            [
             0.1111111111111111,
             "#46039f"
            ],
            [
             0.2222222222222222,
             "#7201a8"
            ],
            [
             0.3333333333333333,
             "#9c179e"
            ],
            [
             0.4444444444444444,
             "#bd3786"
            ],
            [
             0.5555555555555556,
             "#d8576b"
            ],
            [
             0.6666666666666666,
             "#ed7953"
            ],
            [
             0.7777777777777778,
             "#fb9f3a"
            ],
            [
             0.8888888888888888,
             "#fdca26"
            ],
            [
             1,
             "#f0f921"
            ]
           ],
           "sequentialminus": [
            [
             0,
             "#0d0887"
            ],
            [
             0.1111111111111111,
             "#46039f"
            ],
            [
             0.2222222222222222,
             "#7201a8"
            ],
            [
             0.3333333333333333,
             "#9c179e"
            ],
            [
             0.4444444444444444,
             "#bd3786"
            ],
            [
             0.5555555555555556,
             "#d8576b"
            ],
            [
             0.6666666666666666,
             "#ed7953"
            ],
            [
             0.7777777777777778,
             "#fb9f3a"
            ],
            [
             0.8888888888888888,
             "#fdca26"
            ],
            [
             1,
             "#f0f921"
            ]
           ]
          },
          "colorway": [
           "#636efa",
           "#EF553B",
           "#00cc96",
           "#ab63fa",
           "#FFA15A",
           "#19d3f3",
           "#FF6692",
           "#B6E880",
           "#FF97FF",
           "#FECB52"
          ],
          "font": {
           "color": "#2a3f5f"
          },
          "geo": {
           "bgcolor": "white",
           "lakecolor": "white",
           "landcolor": "#E5ECF6",
           "showlakes": true,
           "showland": true,
           "subunitcolor": "white"
          },
          "hoverlabel": {
           "align": "left"
          },
          "hovermode": "closest",
          "mapbox": {
           "style": "light"
          },
          "paper_bgcolor": "white",
          "plot_bgcolor": "#E5ECF6",
          "polar": {
           "angularaxis": {
            "gridcolor": "white",
            "linecolor": "white",
            "ticks": ""
           },
           "bgcolor": "#E5ECF6",
           "radialaxis": {
            "gridcolor": "white",
            "linecolor": "white",
            "ticks": ""
           }
          },
          "scene": {
           "xaxis": {
            "backgroundcolor": "#E5ECF6",
            "gridcolor": "white",
            "gridwidth": 2,
            "linecolor": "white",
            "showbackground": true,
            "ticks": "",
            "zerolinecolor": "white"
           },
           "yaxis": {
            "backgroundcolor": "#E5ECF6",
            "gridcolor": "white",
            "gridwidth": 2,
            "linecolor": "white",
            "showbackground": true,
            "ticks": "",
            "zerolinecolor": "white"
           },
           "zaxis": {
            "backgroundcolor": "#E5ECF6",
            "gridcolor": "white",
            "gridwidth": 2,
            "linecolor": "white",
            "showbackground": true,
            "ticks": "",
            "zerolinecolor": "white"
           }
          },
          "shapedefaults": {
           "line": {
            "color": "#2a3f5f"
           }
          },
          "ternary": {
           "aaxis": {
            "gridcolor": "white",
            "linecolor": "white",
            "ticks": ""
           },
           "baxis": {
            "gridcolor": "white",
            "linecolor": "white",
            "ticks": ""
           },
           "bgcolor": "#E5ECF6",
           "caxis": {
            "gridcolor": "white",
            "linecolor": "white",
            "ticks": ""
           }
          },
          "title": {
           "x": 0.05
          },
          "xaxis": {
           "automargin": true,
           "gridcolor": "white",
           "linecolor": "white",
           "ticks": "",
           "title": {
            "standoff": 15
           },
           "zerolinecolor": "white",
           "zerolinewidth": 2
          },
          "yaxis": {
           "automargin": true,
           "gridcolor": "white",
           "linecolor": "white",
           "ticks": "",
           "title": {
            "standoff": 15
           },
           "zerolinecolor": "white",
           "zerolinewidth": 2
          }
         }
        },
        "title": {
         "text": "🔄 Patrones Estacionales (Promedio Mensual)"
        },
        "xaxis": {
         "anchor": "y",
         "domain": [
          0,
          1
         ],
         "title": {
          "text": "Mes"
         }
        },
        "yaxis": {
         "anchor": "x",
         "domain": [
          0,
          1
         ],
         "title": {
          "text": "Valor Promedio"
         }
        }
       }
      },
      "image/png": "[encoded data removed]"
     },
     "metadata": {},
     "output_type": "display_data"
    },
    {
     "name": "stdout",
     "output_type": "stream",
     "text": [
      "✅ Análisis temporal completado\n"
     ]
    }
   ],
   "source": [
    "# 📅 VISUALIZACIÓN 4: ANÁLISIS TEMPORAL\n",
    "# ====================================\n",
    "\n",
    "# Agregar columnas temporales\n",
    "datos['año'] = datos['fecha'].dt.year\n",
    "datos['mes'] = datos['fecha'].dt.month\n",
    "datos['trimestre'] = datos['fecha'].dt.quarter\n",
    "\n",
    "# Evolución anual\n",
    "fig_anual = px.box(datos, x='año', y='valor', color='tipo',\n",
    "                   title='📅 Evolución Anual por Tipo',\n",
    "                   labels={'valor': 'Valor', 'año': 'Año'})\n",
    "fig_anual.show()\n",
    "\n",
    "# Patrones estacionales\n",
    "fig_estacional = px.line(datos.groupby(['mes', 'tipo'])['valor'].mean().reset_index(), \n",
    "                        x='mes', y='valor', color='tipo',\n",
    "                        title='🔄 Patrones Estacionales (Promedio Mensual)',\n",
    "                        labels={'valor': 'Valor Promedio', 'mes': 'Mes'})\n",
    "fig_estacional.show()\n",
    "\n",
    "print(\"✅ Análisis temporal completado\")"
   ]
  },
  {
   "cell_type": "code",
   "execution_count": null,
   "id": "dfa2bff8-6ec1-447d-b4f4-a76f525a378e",
   "metadata": {},
   "outputs": [],
   "source": []
  }
 ],
 "metadata": {
  "kernelspec": {
   "display_name": "Python 3 (ipykernel)",
   "language": "python",
   "name": "python3"
  },
  "language_info": {
   "codemirror_mode": {
    "name": "ipython",
    "version": 3
   },
   "file_extension": ".py",
   "mimetype": "text/x-python",
   "name": "python",
   "nbconvert_exporter": "python",
   "pygments_lexer": "ipython3",
   "version": "3.12.4"
  }
 },
 "nbformat": 4,
 "nbformat_minor": 5
}

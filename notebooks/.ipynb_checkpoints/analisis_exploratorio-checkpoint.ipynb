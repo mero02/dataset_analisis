{
  "cells": [
    {
      "cell_type": "code",
      "execution_count": null,
      "metadata": {
        "vscode": {
          "languageId": "plaintext"
        }
      },
      "outputs": [],
      "source": [
        "# Análisis Exploratorio de Series Temporales\n",
        "\n",
        "Este notebook proporciona un análisis completo y visualizaciones interactivas de las series temporales cargadas desde Excel.\n",
        "\n",
        "## Contenido:\n",
        "1. Carga y preprocesamiento de datos\n",
        "2. Análisis exploratorio básico\n",
        "3. Visualizaciones por tipo y categoría\n",
        "4. Análisis temporal\n",
        "5. Dashboard interactivo\n"
      ]
    },
    {
      "cell_type": "code",
      "execution_count": null,
      "metadata": {},
      "outputs": [],
      "source": [
        "# Importaciones necesarias\n",
        "import sys\n",
        "import os\n",
        "sys.path.append('../src')\n",
        "\n",
        "import pandas as pd\n",
        "import numpy as np\n",
        "import matplotlib.pyplot as plt\n",
        "import seaborn as sns\n",
        "import plotly.express as px\n",
        "import plotly.graph_objects as go\n",
        "from plotly.subplots import make_subplots\n",
        "import warnings\n",
        "warnings.filterwarnings('ignore')\n",
        "\n",
        "# Configuración de estilo\n",
        "plt.style.use('seaborn-v0_8')\n",
        "sns.set_palette(\"husl\")\n",
        "pd.set_option('display.max_columns', None)\n",
        "pd.set_option('display.width', 1000)\n",
        "\n",
        "print(\"✅ Librerías cargadas correctamente\")\n"
      ]
    },
    {
      "cell_type": "code",
      "execution_count": null,
      "metadata": {},
      "outputs": [],
      "source": [
        "# Cargar los módulos del proyecto\n",
        "from src.analizar_series import construir_modelo\n",
        "from src.utils import limpiar_dataframe\n",
        "\n",
        "print(\"✅ Módulos del proyecto cargados\")\n"
      ]
    },
    {
      "cell_type": "code",
      "execution_count": null,
      "metadata": {},
      "outputs": [],
      "source": [
        "## 1. Carga y Preprocesamiento de Datos\n"
      ]
    },
    {
      "cell_type": "code",
      "execution_count": null,
      "metadata": {},
      "outputs": [],
      "source": [
        "# Cargar datos desde Excel\n",
        "ARCHIVO_EXCEL = '../data/raw/Datos_Series_Leo.xlsx'\n",
        "\n",
        "# Verificar si el archivo existe\n",
        "if os.path.exists(ARCHIVO_EXCEL):\n",
        "    metadatos, datos = construir_modelo(ARCHIVO_EXCEL)\n",
        "    print(f\"✅ Datos cargados exitosamente:\")\n",
        "    print(f\"   - Series: {len(metadatos)}\")\n",
        "    print(f\"   - Registros: {len(datos)}\")\n",
        "else:\n",
        "    print(f\"❌ No se encontró el archivo: {ARCHIVO_EXCEL}\")\n",
        "    print(\"   Por favor, coloca el archivo Datos_Series_Leo.xlsx en la carpeta data/raw/\")\n"
      ]
    }
  ],
  "metadata": {
    "language_info": {
      "name": "python"
    }
  },
  "nbformat": 4,
  "nbformat_minor": 2
}
